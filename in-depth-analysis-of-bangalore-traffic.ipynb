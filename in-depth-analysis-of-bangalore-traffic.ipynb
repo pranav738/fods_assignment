{
 "cells": [
  {
   "cell_type": "markdown",
   "id": "0e3f12d8",
   "metadata": {
    "papermill": {
     "duration": 0.008799,
     "end_time": "2024-08-22T08:51:42.898035",
     "exception": false,
     "start_time": "2024-08-22T08:51:42.889236",
     "status": "completed"
    },
    "tags": []
   },
   "source": [
    "# Introduction and Data Loading\n",
    "This dataset captures detailed traffic patterns across major roads and intersections in Bangalore. "
   ]
  },
  {
   "cell_type": "code",
   "execution_count": 4,
   "id": "0126e48c",
   "metadata": {
    "papermill": {
     "duration": 0.070515,
     "end_time": "2024-08-22T08:51:42.977576",
     "exception": false,
     "start_time": "2024-08-22T08:51:42.907061",
     "status": "completed"
    },
    "tags": []
   },
   "outputs": [],
   "source": [
    "import numpy as np\n",
    "import pandas as pd\n",
    "\n",
    "df = pd.read_csv('~/projects/fods_assignment/datasets/processed/enriched_sample.csv')"
   ]
  },
  {
   "cell_type": "code",
   "execution_count": 5,
   "id": "411e9122",
   "metadata": {
    "papermill": {
     "duration": 0.565044,
     "end_time": "2024-08-22T08:51:43.551843",
     "exception": false,
     "start_time": "2024-08-22T08:51:42.986799",
     "status": "completed"
    },
    "tags": []
   },
   "outputs": [],
   "source": [
    "import pandas as pd\n",
    "import plotly.express as px\n",
    "import plotly.graph_objects as go"
   ]
  },
  {
   "cell_type": "code",
   "execution_count": 8,
   "id": "069b8a45-091d-4da4-9628-03d1ef093065",
   "metadata": {},
   "outputs": [
    {
     "data": {
      "text/html": [
       "<div>\n",
       "<style scoped>\n",
       "    .dataframe tbody tr th:only-of-type {\n",
       "        vertical-align: middle;\n",
       "    }\n",
       "\n",
       "    .dataframe tbody tr th {\n",
       "        vertical-align: top;\n",
       "    }\n",
       "\n",
       "    .dataframe thead th {\n",
       "        text-align: right;\n",
       "    }\n",
       "</style>\n",
       "<table border=\"1\" class=\"dataframe\">\n",
       "  <thead>\n",
       "    <tr style=\"text-align: right;\">\n",
       "      <th></th>\n",
       "      <th>Date</th>\n",
       "      <th>Area Name</th>\n",
       "      <th>Road/Intersection Name</th>\n",
       "      <th>Traffic Volume</th>\n",
       "      <th>Average Speed</th>\n",
       "      <th>Travel Time Index</th>\n",
       "      <th>Congestion Level</th>\n",
       "      <th>Road Capacity Utilization</th>\n",
       "      <th>Incident Reports</th>\n",
       "      <th>Environmental Impact</th>\n",
       "      <th>...</th>\n",
       "      <th>windgust</th>\n",
       "      <th>windspeed</th>\n",
       "      <th>winddir</th>\n",
       "      <th>cloudcover</th>\n",
       "      <th>visibility</th>\n",
       "      <th>solarradiation</th>\n",
       "      <th>uvindex</th>\n",
       "      <th>day_of_week</th>\n",
       "      <th>is_holiday</th>\n",
       "      <th>minutes_of_daylight</th>\n",
       "    </tr>\n",
       "  </thead>\n",
       "  <tbody>\n",
       "    <tr>\n",
       "      <th>count</th>\n",
       "      <td>8936</td>\n",
       "      <td>8936</td>\n",
       "      <td>8936</td>\n",
       "      <td>8936.000000</td>\n",
       "      <td>8936.000000</td>\n",
       "      <td>8936.000000</td>\n",
       "      <td>8936.000000</td>\n",
       "      <td>8936.000000</td>\n",
       "      <td>8936.000000</td>\n",
       "      <td>8936.000000</td>\n",
       "      <td>...</td>\n",
       "      <td>8936.000000</td>\n",
       "      <td>8936.000000</td>\n",
       "      <td>8936.000000</td>\n",
       "      <td>8936.000000</td>\n",
       "      <td>8936.000000</td>\n",
       "      <td>8936.000000</td>\n",
       "      <td>8936.000000</td>\n",
       "      <td>8936</td>\n",
       "      <td>8936</td>\n",
       "      <td>8936.000000</td>\n",
       "    </tr>\n",
       "    <tr>\n",
       "      <th>unique</th>\n",
       "      <td>952</td>\n",
       "      <td>8</td>\n",
       "      <td>16</td>\n",
       "      <td>NaN</td>\n",
       "      <td>NaN</td>\n",
       "      <td>NaN</td>\n",
       "      <td>NaN</td>\n",
       "      <td>NaN</td>\n",
       "      <td>NaN</td>\n",
       "      <td>NaN</td>\n",
       "      <td>...</td>\n",
       "      <td>NaN</td>\n",
       "      <td>NaN</td>\n",
       "      <td>NaN</td>\n",
       "      <td>NaN</td>\n",
       "      <td>NaN</td>\n",
       "      <td>NaN</td>\n",
       "      <td>NaN</td>\n",
       "      <td>7</td>\n",
       "      <td>2</td>\n",
       "      <td>NaN</td>\n",
       "    </tr>\n",
       "    <tr>\n",
       "      <th>top</th>\n",
       "      <td>2023-01-24</td>\n",
       "      <td>Indiranagar</td>\n",
       "      <td>100 Feet Road</td>\n",
       "      <td>NaN</td>\n",
       "      <td>NaN</td>\n",
       "      <td>NaN</td>\n",
       "      <td>NaN</td>\n",
       "      <td>NaN</td>\n",
       "      <td>NaN</td>\n",
       "      <td>NaN</td>\n",
       "      <td>...</td>\n",
       "      <td>NaN</td>\n",
       "      <td>NaN</td>\n",
       "      <td>NaN</td>\n",
       "      <td>NaN</td>\n",
       "      <td>NaN</td>\n",
       "      <td>NaN</td>\n",
       "      <td>NaN</td>\n",
       "      <td>Tuesday</td>\n",
       "      <td>False</td>\n",
       "      <td>NaN</td>\n",
       "    </tr>\n",
       "    <tr>\n",
       "      <th>freq</th>\n",
       "      <td>15</td>\n",
       "      <td>1720</td>\n",
       "      <td>860</td>\n",
       "      <td>NaN</td>\n",
       "      <td>NaN</td>\n",
       "      <td>NaN</td>\n",
       "      <td>NaN</td>\n",
       "      <td>NaN</td>\n",
       "      <td>NaN</td>\n",
       "      <td>NaN</td>\n",
       "      <td>...</td>\n",
       "      <td>NaN</td>\n",
       "      <td>NaN</td>\n",
       "      <td>NaN</td>\n",
       "      <td>NaN</td>\n",
       "      <td>NaN</td>\n",
       "      <td>NaN</td>\n",
       "      <td>NaN</td>\n",
       "      <td>1309</td>\n",
       "      <td>6611</td>\n",
       "      <td>NaN</td>\n",
       "    </tr>\n",
       "    <tr>\n",
       "      <th>mean</th>\n",
       "      <td>NaN</td>\n",
       "      <td>NaN</td>\n",
       "      <td>NaN</td>\n",
       "      <td>29236.048120</td>\n",
       "      <td>39.447427</td>\n",
       "      <td>1.375554</td>\n",
       "      <td>80.818041</td>\n",
       "      <td>92.029215</td>\n",
       "      <td>1.570389</td>\n",
       "      <td>108.472096</td>\n",
       "      <td>...</td>\n",
       "      <td>35.312097</td>\n",
       "      <td>19.926421</td>\n",
       "      <td>172.621397</td>\n",
       "      <td>50.731423</td>\n",
       "      <td>6.138585</td>\n",
       "      <td>223.043151</td>\n",
       "      <td>8.000112</td>\n",
       "      <td>NaN</td>\n",
       "      <td>NaN</td>\n",
       "      <td>730.416661</td>\n",
       "    </tr>\n",
       "    <tr>\n",
       "      <th>std</th>\n",
       "      <td>NaN</td>\n",
       "      <td>NaN</td>\n",
       "      <td>NaN</td>\n",
       "      <td>13001.808801</td>\n",
       "      <td>10.707244</td>\n",
       "      <td>0.165319</td>\n",
       "      <td>23.533182</td>\n",
       "      <td>16.583341</td>\n",
       "      <td>1.420047</td>\n",
       "      <td>26.003618</td>\n",
       "      <td>...</td>\n",
       "      <td>10.498813</td>\n",
       "      <td>6.851374</td>\n",
       "      <td>86.649955</td>\n",
       "      <td>22.642310</td>\n",
       "      <td>0.771141</td>\n",
       "      <td>61.854516</td>\n",
       "      <td>1.804707</td>\n",
       "      <td>NaN</td>\n",
       "      <td>NaN</td>\n",
       "      <td>31.883511</td>\n",
       "    </tr>\n",
       "    <tr>\n",
       "      <th>min</th>\n",
       "      <td>NaN</td>\n",
       "      <td>NaN</td>\n",
       "      <td>NaN</td>\n",
       "      <td>4233.000000</td>\n",
       "      <td>20.000000</td>\n",
       "      <td>1.000039</td>\n",
       "      <td>5.160279</td>\n",
       "      <td>18.739771</td>\n",
       "      <td>0.000000</td>\n",
       "      <td>58.466000</td>\n",
       "      <td>...</td>\n",
       "      <td>16.900000</td>\n",
       "      <td>8.700000</td>\n",
       "      <td>9.600000</td>\n",
       "      <td>0.000000</td>\n",
       "      <td>3.700000</td>\n",
       "      <td>15.100000</td>\n",
       "      <td>1.000000</td>\n",
       "      <td>NaN</td>\n",
       "      <td>NaN</td>\n",
       "      <td>681.600000</td>\n",
       "    </tr>\n",
       "    <tr>\n",
       "      <th>25%</th>\n",
       "      <td>NaN</td>\n",
       "      <td>NaN</td>\n",
       "      <td>NaN</td>\n",
       "      <td>19413.000000</td>\n",
       "      <td>31.775825</td>\n",
       "      <td>1.242459</td>\n",
       "      <td>64.292905</td>\n",
       "      <td>97.354990</td>\n",
       "      <td>0.000000</td>\n",
       "      <td>88.826000</td>\n",
       "      <td>...</td>\n",
       "      <td>27.700000</td>\n",
       "      <td>16.100000</td>\n",
       "      <td>90.900000</td>\n",
       "      <td>34.300000</td>\n",
       "      <td>5.700000</td>\n",
       "      <td>182.000000</td>\n",
       "      <td>7.000000</td>\n",
       "      <td>NaN</td>\n",
       "      <td>NaN</td>\n",
       "      <td>699.383333</td>\n",
       "    </tr>\n",
       "    <tr>\n",
       "      <th>50%</th>\n",
       "      <td>NaN</td>\n",
       "      <td>NaN</td>\n",
       "      <td>NaN</td>\n",
       "      <td>27600.000000</td>\n",
       "      <td>39.199368</td>\n",
       "      <td>1.500000</td>\n",
       "      <td>92.389018</td>\n",
       "      <td>100.000000</td>\n",
       "      <td>1.000000</td>\n",
       "      <td>105.200000</td>\n",
       "      <td>...</td>\n",
       "      <td>33.100000</td>\n",
       "      <td>18.500000</td>\n",
       "      <td>154.200000</td>\n",
       "      <td>53.400000</td>\n",
       "      <td>6.200000</td>\n",
       "      <td>232.200000</td>\n",
       "      <td>8.000000</td>\n",
       "      <td>NaN</td>\n",
       "      <td>NaN</td>\n",
       "      <td>732.216667</td>\n",
       "    </tr>\n",
       "    <tr>\n",
       "      <th>75%</th>\n",
       "      <td>NaN</td>\n",
       "      <td>NaN</td>\n",
       "      <td>NaN</td>\n",
       "      <td>38058.500000</td>\n",
       "      <td>46.644517</td>\n",
       "      <td>1.500000</td>\n",
       "      <td>100.000000</td>\n",
       "      <td>100.000000</td>\n",
       "      <td>2.000000</td>\n",
       "      <td>126.117000</td>\n",
       "      <td>...</td>\n",
       "      <td>40.000000</td>\n",
       "      <td>22.400000</td>\n",
       "      <td>255.200000</td>\n",
       "      <td>67.400000</td>\n",
       "      <td>6.600000</td>\n",
       "      <td>273.100000</td>\n",
       "      <td>9.000000</td>\n",
       "      <td>NaN</td>\n",
       "      <td>NaN</td>\n",
       "      <td>762.116667</td>\n",
       "    </tr>\n",
       "    <tr>\n",
       "      <th>max</th>\n",
       "      <td>NaN</td>\n",
       "      <td>NaN</td>\n",
       "      <td>NaN</td>\n",
       "      <td>72039.000000</td>\n",
       "      <td>89.790843</td>\n",
       "      <td>1.500000</td>\n",
       "      <td>100.000000</td>\n",
       "      <td>100.000000</td>\n",
       "      <td>10.000000</td>\n",
       "      <td>194.078000</td>\n",
       "      <td>...</td>\n",
       "      <td>83.500000</td>\n",
       "      <td>149.300000</td>\n",
       "      <td>355.800000</td>\n",
       "      <td>97.800000</td>\n",
       "      <td>10.000000</td>\n",
       "      <td>386.800000</td>\n",
       "      <td>10.000000</td>\n",
       "      <td>NaN</td>\n",
       "      <td>NaN</td>\n",
       "      <td>773.383333</td>\n",
       "    </tr>\n",
       "  </tbody>\n",
       "</table>\n",
       "<p>11 rows × 34 columns</p>\n",
       "</div>"
      ],
      "text/plain": [
       "              Date    Area Name Road/Intersection Name  Traffic Volume  \\\n",
       "count         8936         8936                   8936     8936.000000   \n",
       "unique         952            8                     16             NaN   \n",
       "top     2023-01-24  Indiranagar          100 Feet Road             NaN   \n",
       "freq            15         1720                    860             NaN   \n",
       "mean           NaN          NaN                    NaN    29236.048120   \n",
       "std            NaN          NaN                    NaN    13001.808801   \n",
       "min            NaN          NaN                    NaN     4233.000000   \n",
       "25%            NaN          NaN                    NaN    19413.000000   \n",
       "50%            NaN          NaN                    NaN    27600.000000   \n",
       "75%            NaN          NaN                    NaN    38058.500000   \n",
       "max            NaN          NaN                    NaN    72039.000000   \n",
       "\n",
       "        Average Speed  Travel Time Index  Congestion Level  \\\n",
       "count     8936.000000        8936.000000       8936.000000   \n",
       "unique            NaN                NaN               NaN   \n",
       "top               NaN                NaN               NaN   \n",
       "freq              NaN                NaN               NaN   \n",
       "mean        39.447427           1.375554         80.818041   \n",
       "std         10.707244           0.165319         23.533182   \n",
       "min         20.000000           1.000039          5.160279   \n",
       "25%         31.775825           1.242459         64.292905   \n",
       "50%         39.199368           1.500000         92.389018   \n",
       "75%         46.644517           1.500000        100.000000   \n",
       "max         89.790843           1.500000        100.000000   \n",
       "\n",
       "        Road Capacity Utilization  Incident Reports  Environmental Impact  \\\n",
       "count                 8936.000000       8936.000000           8936.000000   \n",
       "unique                        NaN               NaN                   NaN   \n",
       "top                           NaN               NaN                   NaN   \n",
       "freq                          NaN               NaN                   NaN   \n",
       "mean                    92.029215          1.570389            108.472096   \n",
       "std                     16.583341          1.420047             26.003618   \n",
       "min                     18.739771          0.000000             58.466000   \n",
       "25%                     97.354990          0.000000             88.826000   \n",
       "50%                    100.000000          1.000000            105.200000   \n",
       "75%                    100.000000          2.000000            126.117000   \n",
       "max                    100.000000         10.000000            194.078000   \n",
       "\n",
       "        ...     windgust    windspeed      winddir   cloudcover   visibility  \\\n",
       "count   ...  8936.000000  8936.000000  8936.000000  8936.000000  8936.000000   \n",
       "unique  ...          NaN          NaN          NaN          NaN          NaN   \n",
       "top     ...          NaN          NaN          NaN          NaN          NaN   \n",
       "freq    ...          NaN          NaN          NaN          NaN          NaN   \n",
       "mean    ...    35.312097    19.926421   172.621397    50.731423     6.138585   \n",
       "std     ...    10.498813     6.851374    86.649955    22.642310     0.771141   \n",
       "min     ...    16.900000     8.700000     9.600000     0.000000     3.700000   \n",
       "25%     ...    27.700000    16.100000    90.900000    34.300000     5.700000   \n",
       "50%     ...    33.100000    18.500000   154.200000    53.400000     6.200000   \n",
       "75%     ...    40.000000    22.400000   255.200000    67.400000     6.600000   \n",
       "max     ...    83.500000   149.300000   355.800000    97.800000    10.000000   \n",
       "\n",
       "       solarradiation      uvindex  day_of_week  is_holiday  \\\n",
       "count     8936.000000  8936.000000         8936        8936   \n",
       "unique            NaN          NaN            7           2   \n",
       "top               NaN          NaN      Tuesday       False   \n",
       "freq              NaN          NaN         1309        6611   \n",
       "mean       223.043151     8.000112          NaN         NaN   \n",
       "std         61.854516     1.804707          NaN         NaN   \n",
       "min         15.100000     1.000000          NaN         NaN   \n",
       "25%        182.000000     7.000000          NaN         NaN   \n",
       "50%        232.200000     8.000000          NaN         NaN   \n",
       "75%        273.100000     9.000000          NaN         NaN   \n",
       "max        386.800000    10.000000          NaN         NaN   \n",
       "\n",
       "        minutes_of_daylight  \n",
       "count           8936.000000  \n",
       "unique                  NaN  \n",
       "top                     NaN  \n",
       "freq                    NaN  \n",
       "mean             730.416661  \n",
       "std               31.883511  \n",
       "min              681.600000  \n",
       "25%              699.383333  \n",
       "50%              732.216667  \n",
       "75%              762.116667  \n",
       "max              773.383333  \n",
       "\n",
       "[11 rows x 34 columns]"
      ]
     },
     "execution_count": 8,
     "metadata": {},
     "output_type": "execute_result"
    }
   ],
   "source": [
    "df.describe(include = 'all')"
   ]
  },
  {
   "cell_type": "code",
   "execution_count": 10,
   "id": "77cec49b-3c98-4fcc-a409-dd2cffa416b1",
   "metadata": {},
   "outputs": [
    {
     "ename": "ValueError",
     "evalue": "could not convert string to float: '2022-01-01'",
     "output_type": "error",
     "traceback": [
      "\u001b[31m---------------------------------------------------------------------------\u001b[39m",
      "\u001b[31mValueError\u001b[39m                                Traceback (most recent call last)",
      "\u001b[36mCell\u001b[39m\u001b[36m \u001b[39m\u001b[32mIn[10]\u001b[39m\u001b[32m, line 1\u001b[39m\n\u001b[32m----> \u001b[39m\u001b[32m1\u001b[39m correlation_matrix = \u001b[43mdf\u001b[49m\u001b[43m.\u001b[49m\u001b[43mcorr\u001b[49m\u001b[43m(\u001b[49m\u001b[43m)\u001b[49m\n\u001b[32m      2\u001b[39m plt.figure(figsize=(\u001b[32m8\u001b[39m, \u001b[32m6\u001b[39m)) \u001b[38;5;66;03m# Adjust figure size as needed\u001b[39;00m\n\u001b[32m      3\u001b[39m sns.heatmap(correlation_matrix, annot=\u001b[38;5;28;01mTrue\u001b[39;00m, cmap=\u001b[33m'\u001b[39m\u001b[33mcoolwarm\u001b[39m\u001b[33m'\u001b[39m, fmt=\u001b[33m\"\u001b[39m\u001b[33m.2f\u001b[39m\u001b[33m\"\u001b[39m, linewidths=\u001b[32m.5\u001b[39m)\n",
      "\u001b[36mFile \u001b[39m\u001b[32m~/projects/fods_assignment/.venv/lib/python3.12/site-packages/pandas/core/frame.py:11076\u001b[39m, in \u001b[36mDataFrame.corr\u001b[39m\u001b[34m(self, method, min_periods, numeric_only)\u001b[39m\n\u001b[32m  11074\u001b[39m cols = data.columns\n\u001b[32m  11075\u001b[39m idx = cols.copy()\n\u001b[32m> \u001b[39m\u001b[32m11076\u001b[39m mat = \u001b[43mdata\u001b[49m\u001b[43m.\u001b[49m\u001b[43mto_numpy\u001b[49m\u001b[43m(\u001b[49m\u001b[43mdtype\u001b[49m\u001b[43m=\u001b[49m\u001b[38;5;28;43mfloat\u001b[39;49m\u001b[43m,\u001b[49m\u001b[43m \u001b[49m\u001b[43mna_value\u001b[49m\u001b[43m=\u001b[49m\u001b[43mnp\u001b[49m\u001b[43m.\u001b[49m\u001b[43mnan\u001b[49m\u001b[43m,\u001b[49m\u001b[43m \u001b[49m\u001b[43mcopy\u001b[49m\u001b[43m=\u001b[49m\u001b[38;5;28;43;01mFalse\u001b[39;49;00m\u001b[43m)\u001b[49m\n\u001b[32m  11078\u001b[39m \u001b[38;5;28;01mif\u001b[39;00m method == \u001b[33m\"\u001b[39m\u001b[33mpearson\u001b[39m\u001b[33m\"\u001b[39m:\n\u001b[32m  11079\u001b[39m     correl = libalgos.nancorr(mat, minp=min_periods)\n",
      "\u001b[36mFile \u001b[39m\u001b[32m~/projects/fods_assignment/.venv/lib/python3.12/site-packages/pandas/core/frame.py:2002\u001b[39m, in \u001b[36mDataFrame.to_numpy\u001b[39m\u001b[34m(self, dtype, copy, na_value)\u001b[39m\n\u001b[32m   2000\u001b[39m \u001b[38;5;28;01mif\u001b[39;00m dtype \u001b[38;5;129;01mis\u001b[39;00m \u001b[38;5;129;01mnot\u001b[39;00m \u001b[38;5;28;01mNone\u001b[39;00m:\n\u001b[32m   2001\u001b[39m     dtype = np.dtype(dtype)\n\u001b[32m-> \u001b[39m\u001b[32m2002\u001b[39m result = \u001b[38;5;28;43mself\u001b[39;49m\u001b[43m.\u001b[49m\u001b[43m_mgr\u001b[49m\u001b[43m.\u001b[49m\u001b[43mas_array\u001b[49m\u001b[43m(\u001b[49m\u001b[43mdtype\u001b[49m\u001b[43m=\u001b[49m\u001b[43mdtype\u001b[49m\u001b[43m,\u001b[49m\u001b[43m \u001b[49m\u001b[43mcopy\u001b[49m\u001b[43m=\u001b[49m\u001b[43mcopy\u001b[49m\u001b[43m,\u001b[49m\u001b[43m \u001b[49m\u001b[43mna_value\u001b[49m\u001b[43m=\u001b[49m\u001b[43mna_value\u001b[49m\u001b[43m)\u001b[49m\n\u001b[32m   2003\u001b[39m \u001b[38;5;28;01mif\u001b[39;00m result.dtype \u001b[38;5;129;01mis\u001b[39;00m \u001b[38;5;129;01mnot\u001b[39;00m dtype:\n\u001b[32m   2004\u001b[39m     result = np.asarray(result, dtype=dtype)\n",
      "\u001b[36mFile \u001b[39m\u001b[32m~/projects/fods_assignment/.venv/lib/python3.12/site-packages/pandas/core/internals/managers.py:1713\u001b[39m, in \u001b[36mBlockManager.as_array\u001b[39m\u001b[34m(self, dtype, copy, na_value)\u001b[39m\n\u001b[32m   1711\u001b[39m         arr.flags.writeable = \u001b[38;5;28;01mFalse\u001b[39;00m\n\u001b[32m   1712\u001b[39m \u001b[38;5;28;01melse\u001b[39;00m:\n\u001b[32m-> \u001b[39m\u001b[32m1713\u001b[39m     arr = \u001b[38;5;28;43mself\u001b[39;49m\u001b[43m.\u001b[49m\u001b[43m_interleave\u001b[49m\u001b[43m(\u001b[49m\u001b[43mdtype\u001b[49m\u001b[43m=\u001b[49m\u001b[43mdtype\u001b[49m\u001b[43m,\u001b[49m\u001b[43m \u001b[49m\u001b[43mna_value\u001b[49m\u001b[43m=\u001b[49m\u001b[43mna_value\u001b[49m\u001b[43m)\u001b[49m\n\u001b[32m   1714\u001b[39m     \u001b[38;5;66;03m# The underlying data was copied within _interleave, so no need\u001b[39;00m\n\u001b[32m   1715\u001b[39m     \u001b[38;5;66;03m# to further copy if copy=True or setting na_value\u001b[39;00m\n\u001b[32m   1717\u001b[39m \u001b[38;5;28;01mif\u001b[39;00m na_value \u001b[38;5;129;01mis\u001b[39;00m lib.no_default:\n",
      "\u001b[36mFile \u001b[39m\u001b[32m~/projects/fods_assignment/.venv/lib/python3.12/site-packages/pandas/core/internals/managers.py:1772\u001b[39m, in \u001b[36mBlockManager._interleave\u001b[39m\u001b[34m(self, dtype, na_value)\u001b[39m\n\u001b[32m   1770\u001b[39m     \u001b[38;5;28;01melse\u001b[39;00m:\n\u001b[32m   1771\u001b[39m         arr = blk.get_values(dtype)\n\u001b[32m-> \u001b[39m\u001b[32m1772\u001b[39m     \u001b[43mresult\u001b[49m\u001b[43m[\u001b[49m\u001b[43mrl\u001b[49m\u001b[43m.\u001b[49m\u001b[43mindexer\u001b[49m\u001b[43m]\u001b[49m = arr\n\u001b[32m   1773\u001b[39m     itemmask[rl.indexer] = \u001b[32m1\u001b[39m\n\u001b[32m   1775\u001b[39m \u001b[38;5;28;01mif\u001b[39;00m \u001b[38;5;129;01mnot\u001b[39;00m itemmask.all():\n",
      "\u001b[31mValueError\u001b[39m: could not convert string to float: '2022-01-01'"
     ]
    }
   ],
   "source": [
    "correlation_matrix = df.corr()\n",
    "plt.figure(figsize=(8, 6)) # Adjust figure size as needed\n",
    "sns.heatmap(correlation_matrix, annot=True, cmap='coolwarm', fmt=\".2f\", linewidths=.5)\n",
    "plt.title('Correlation Matrix Heatmap')\n",
    "plt.show()"
   ]
  },
  {
   "cell_type": "markdown",
   "id": "a1f6ea2b",
   "metadata": {
    "papermill": {
     "duration": 0.008746,
     "end_time": "2024-08-22T08:51:43.570309",
     "exception": false,
     "start_time": "2024-08-22T08:51:43.561563",
     "status": "completed"
    },
    "tags": []
   },
   "source": [
    "# EDA of the Dataset"
   ]
  },
  {
   "cell_type": "markdown",
   "id": "5ada941e",
   "metadata": {
    "papermill": {
     "duration": 0.008994,
     "end_time": "2024-08-22T08:51:43.588182",
     "exception": false,
     "start_time": "2024-08-22T08:51:43.579188",
     "status": "completed"
    },
    "tags": []
   },
   "source": [
    "# 1. Heat Map"
   ]
  },
  {
   "cell_type": "code",
   "execution_count": 6,
   "id": "09dca0fa",
   "metadata": {
    "papermill": {
     "duration": 1.698716,
     "end_time": "2024-08-22T08:51:45.295789",
     "exception": false,
     "start_time": "2024-08-22T08:51:43.597073",
     "status": "completed"
    },
    "tags": []
   },
   "outputs": [
    {
     "data": {
      "application/vnd.plotly.v1+json": {
       "config": {
        "plotlyServerURL": "https://plot.ly"
       },
       "data": [
        {
         "coloraxis": "coloraxis",
         "hovertemplate": "Road/Intersection Name: %{x}<br>Area Name: %{y}<br>Traffic Volume: %{z}<extra></extra>",
         "name": "0",
         "type": "heatmap",
         "x": [
          "100 Feet Road",
          "Anil Kumble Circle",
          "Ballari Road",
          "CMH Road",
          "Hebbal Flyover",
          "Hosur Road",
          "ITPL Main Road",
          "Jayanagar 4th Block",
          "Marathahalli Bridge",
          "Sarjapur Road",
          "Silk Board Junction",
          "Sony World Junction",
          "South End Circle",
          "Trinity Circle",
          "Tumkur Road",
          "Yeshwanthpur Circle"
         ],
         "xaxis": "x",
         "y": [
          "Electronic City",
          "Hebbal",
          "Indiranagar",
          "Jayanagar",
          "Koramangala",
          "M.G. Road",
          "Whitefield",
          "Yeshwanthpur"
         ],
         "yaxis": "y",
         "z": {
          "bdata": "AAAAAAAA+H8AAAAAAAD4fwAAAAAAAPh/AAAAAAAA+H8AAAAAAAD4fwAAAMDbflFBAAAAAAAA+H8AAAAAAAD4fwAAAAAAAPh/AAAAAAAA+H8AAABAAe1QQQAAAAAAAPh/AAAAAAAA+H8AAAAAAAD4fwAAAAAAAPh/AAAAAAAA+H8AAAAAAAD4fwAAAAAAAPh/AAAAIFbaZ0EAAAAAAAD4fwAAAECPOWhBAAAAAAAA+H8AAAAAAAD4fwAAAAAAAPh/AAAAAAAA+H8AAAAAAAD4fwAAAAAAAPh/AAAAAAAA+H8AAAAAAAD4fwAAAAAAAPh/AAAAAAAA+H8AAAAAAAD4fwAAANCwNXpBAAAAAAAA+H8AAAAAAAD4fwAAAPA6v3pBAAAAAAAA+H8AAAAAAAD4fwAAAAAAAPh/AAAAAAAA+H8AAAAAAAD4fwAAAAAAAPh/AAAAAAAA+H8AAAAAAAD4fwAAAAAAAPh/AAAAAAAA+H8AAAAAAAD4fwAAAAAAAPh/AAAAAAAA+H8AAAAAAAD4fwAAAAAAAPh/AAAAAAAA+H8AAAAAAAD4fwAAAAAAAPh/AAAAAAAA+H8AAAAgaRlrQQAAAAAAAPh/AAAAAAAA+H8AAAAAAAD4fwAAAAAAAPh/AAAA4Bjxa0EAAAAAAAD4fwAAAAAAAPh/AAAAAAAA+H8AAAAAAAD4fwAAAAAAAPh/AAAAAAAA+H8AAAAAAAD4fwAAAAAAAPh/AAAAAAAA+H8AAAAAAAD4fwAAAAAAAPh/AAAAAAAA+H8AAADgKBB6QQAAAAAAAPh/AAAAwEwNe0EAAAAAAAD4fwAAAAAAAPh/AAAAAAAA+H8AAAAAAAD4fwAAAAAAAPh/AAAAoEKEeUEAAAAAAAD4fwAAAAAAAPh/AAAAAAAA+H8AAAAAAAD4fwAAAAAAAPh/AAAAAAAA+H8AAAAAAAD4fwAAAAAAAPh/AAAAAAAA+H8AAAAAAAD4fwAAAAAAAPh/AAAAoMIDeUEAAAAAAAD4fwAAAAAAAPh/AAAAAAAA+H8AAAAAAAD4fwAAAAAAAPh/AAAAAAAA+H8AAAAAAAD4fwAAAAAAAPh/AAAAoIzEYkEAAAAAAAD4fwAAAKBgfmNBAAAAAAAA+H8AAAAAAAD4fwAAAAAAAPh/AAAAAAAA+H8AAAAAAAD4fwAAAAAAAPh/AAAAAAAA+H8AAAAAAAD4fwAAAAAAAPh/AAAAAAAA+H8AAAAAAAD4fwAAAAAAAPh/AAAAAAAA+H8AAAAAAAD4fwAAAAAAAPh/AAAAAAAA+H8AAAAAAAD4fwAAAAAAAPh/AAAAAAAA+H8AAAAAAAD4fwAAAAAAAPh/AAAAwDuUWUEAAAAA121bQQ==",
          "dtype": "f8",
          "shape": "8, 16"
         }
        }
       ],
       "layout": {
        "coloraxis": {
         "colorbar": {
          "title": {
           "text": "Traffic Volume"
          }
         },
         "colorscale": [
          [
           0,
           "#0d0887"
          ],
          [
           0.1111111111111111,
           "#46039f"
          ],
          [
           0.2222222222222222,
           "#7201a8"
          ],
          [
           0.3333333333333333,
           "#9c179e"
          ],
          [
           0.4444444444444444,
           "#bd3786"
          ],
          [
           0.5555555555555556,
           "#d8576b"
          ],
          [
           0.6666666666666666,
           "#ed7953"
          ],
          [
           0.7777777777777778,
           "#fb9f3a"
          ],
          [
           0.8888888888888888,
           "#fdca26"
          ],
          [
           1,
           "#f0f921"
          ]
         ]
        },
        "template": {
         "data": {
          "bar": [
           {
            "error_x": {
             "color": "#2a3f5f"
            },
            "error_y": {
             "color": "#2a3f5f"
            },
            "marker": {
             "line": {
              "color": "#E5ECF6",
              "width": 0.5
             },
             "pattern": {
              "fillmode": "overlay",
              "size": 10,
              "solidity": 0.2
             }
            },
            "type": "bar"
           }
          ],
          "barpolar": [
           {
            "marker": {
             "line": {
              "color": "#E5ECF6",
              "width": 0.5
             },
             "pattern": {
              "fillmode": "overlay",
              "size": 10,
              "solidity": 0.2
             }
            },
            "type": "barpolar"
           }
          ],
          "carpet": [
           {
            "aaxis": {
             "endlinecolor": "#2a3f5f",
             "gridcolor": "white",
             "linecolor": "white",
             "minorgridcolor": "white",
             "startlinecolor": "#2a3f5f"
            },
            "baxis": {
             "endlinecolor": "#2a3f5f",
             "gridcolor": "white",
             "linecolor": "white",
             "minorgridcolor": "white",
             "startlinecolor": "#2a3f5f"
            },
            "type": "carpet"
           }
          ],
          "choropleth": [
           {
            "colorbar": {
             "outlinewidth": 0,
             "ticks": ""
            },
            "type": "choropleth"
           }
          ],
          "contour": [
           {
            "colorbar": {
             "outlinewidth": 0,
             "ticks": ""
            },
            "colorscale": [
             [
              0,
              "#0d0887"
             ],
             [
              0.1111111111111111,
              "#46039f"
             ],
             [
              0.2222222222222222,
              "#7201a8"
             ],
             [
              0.3333333333333333,
              "#9c179e"
             ],
             [
              0.4444444444444444,
              "#bd3786"
             ],
             [
              0.5555555555555556,
              "#d8576b"
             ],
             [
              0.6666666666666666,
              "#ed7953"
             ],
             [
              0.7777777777777778,
              "#fb9f3a"
             ],
             [
              0.8888888888888888,
              "#fdca26"
             ],
             [
              1,
              "#f0f921"
             ]
            ],
            "type": "contour"
           }
          ],
          "contourcarpet": [
           {
            "colorbar": {
             "outlinewidth": 0,
             "ticks": ""
            },
            "type": "contourcarpet"
           }
          ],
          "heatmap": [
           {
            "colorbar": {
             "outlinewidth": 0,
             "ticks": ""
            },
            "colorscale": [
             [
              0,
              "#0d0887"
             ],
             [
              0.1111111111111111,
              "#46039f"
             ],
             [
              0.2222222222222222,
              "#7201a8"
             ],
             [
              0.3333333333333333,
              "#9c179e"
             ],
             [
              0.4444444444444444,
              "#bd3786"
             ],
             [
              0.5555555555555556,
              "#d8576b"
             ],
             [
              0.6666666666666666,
              "#ed7953"
             ],
             [
              0.7777777777777778,
              "#fb9f3a"
             ],
             [
              0.8888888888888888,
              "#fdca26"
             ],
             [
              1,
              "#f0f921"
             ]
            ],
            "type": "heatmap"
           }
          ],
          "histogram": [
           {
            "marker": {
             "pattern": {
              "fillmode": "overlay",
              "size": 10,
              "solidity": 0.2
             }
            },
            "type": "histogram"
           }
          ],
          "histogram2d": [
           {
            "colorbar": {
             "outlinewidth": 0,
             "ticks": ""
            },
            "colorscale": [
             [
              0,
              "#0d0887"
             ],
             [
              0.1111111111111111,
              "#46039f"
             ],
             [
              0.2222222222222222,
              "#7201a8"
             ],
             [
              0.3333333333333333,
              "#9c179e"
             ],
             [
              0.4444444444444444,
              "#bd3786"
             ],
             [
              0.5555555555555556,
              "#d8576b"
             ],
             [
              0.6666666666666666,
              "#ed7953"
             ],
             [
              0.7777777777777778,
              "#fb9f3a"
             ],
             [
              0.8888888888888888,
              "#fdca26"
             ],
             [
              1,
              "#f0f921"
             ]
            ],
            "type": "histogram2d"
           }
          ],
          "histogram2dcontour": [
           {
            "colorbar": {
             "outlinewidth": 0,
             "ticks": ""
            },
            "colorscale": [
             [
              0,
              "#0d0887"
             ],
             [
              0.1111111111111111,
              "#46039f"
             ],
             [
              0.2222222222222222,
              "#7201a8"
             ],
             [
              0.3333333333333333,
              "#9c179e"
             ],
             [
              0.4444444444444444,
              "#bd3786"
             ],
             [
              0.5555555555555556,
              "#d8576b"
             ],
             [
              0.6666666666666666,
              "#ed7953"
             ],
             [
              0.7777777777777778,
              "#fb9f3a"
             ],
             [
              0.8888888888888888,
              "#fdca26"
             ],
             [
              1,
              "#f0f921"
             ]
            ],
            "type": "histogram2dcontour"
           }
          ],
          "mesh3d": [
           {
            "colorbar": {
             "outlinewidth": 0,
             "ticks": ""
            },
            "type": "mesh3d"
           }
          ],
          "parcoords": [
           {
            "line": {
             "colorbar": {
              "outlinewidth": 0,
              "ticks": ""
             }
            },
            "type": "parcoords"
           }
          ],
          "pie": [
           {
            "automargin": true,
            "type": "pie"
           }
          ],
          "scatter": [
           {
            "fillpattern": {
             "fillmode": "overlay",
             "size": 10,
             "solidity": 0.2
            },
            "type": "scatter"
           }
          ],
          "scatter3d": [
           {
            "line": {
             "colorbar": {
              "outlinewidth": 0,
              "ticks": ""
             }
            },
            "marker": {
             "colorbar": {
              "outlinewidth": 0,
              "ticks": ""
             }
            },
            "type": "scatter3d"
           }
          ],
          "scattercarpet": [
           {
            "marker": {
             "colorbar": {
              "outlinewidth": 0,
              "ticks": ""
             }
            },
            "type": "scattercarpet"
           }
          ],
          "scattergeo": [
           {
            "marker": {
             "colorbar": {
              "outlinewidth": 0,
              "ticks": ""
             }
            },
            "type": "scattergeo"
           }
          ],
          "scattergl": [
           {
            "marker": {
             "colorbar": {
              "outlinewidth": 0,
              "ticks": ""
             }
            },
            "type": "scattergl"
           }
          ],
          "scattermap": [
           {
            "marker": {
             "colorbar": {
              "outlinewidth": 0,
              "ticks": ""
             }
            },
            "type": "scattermap"
           }
          ],
          "scattermapbox": [
           {
            "marker": {
             "colorbar": {
              "outlinewidth": 0,
              "ticks": ""
             }
            },
            "type": "scattermapbox"
           }
          ],
          "scatterpolar": [
           {
            "marker": {
             "colorbar": {
              "outlinewidth": 0,
              "ticks": ""
             }
            },
            "type": "scatterpolar"
           }
          ],
          "scatterpolargl": [
           {
            "marker": {
             "colorbar": {
              "outlinewidth": 0,
              "ticks": ""
             }
            },
            "type": "scatterpolargl"
           }
          ],
          "scatterternary": [
           {
            "marker": {
             "colorbar": {
              "outlinewidth": 0,
              "ticks": ""
             }
            },
            "type": "scatterternary"
           }
          ],
          "surface": [
           {
            "colorbar": {
             "outlinewidth": 0,
             "ticks": ""
            },
            "colorscale": [
             [
              0,
              "#0d0887"
             ],
             [
              0.1111111111111111,
              "#46039f"
             ],
             [
              0.2222222222222222,
              "#7201a8"
             ],
             [
              0.3333333333333333,
              "#9c179e"
             ],
             [
              0.4444444444444444,
              "#bd3786"
             ],
             [
              0.5555555555555556,
              "#d8576b"
             ],
             [
              0.6666666666666666,
              "#ed7953"
             ],
             [
              0.7777777777777778,
              "#fb9f3a"
             ],
             [
              0.8888888888888888,
              "#fdca26"
             ],
             [
              1,
              "#f0f921"
             ]
            ],
            "type": "surface"
           }
          ],
          "table": [
           {
            "cells": {
             "fill": {
              "color": "#EBF0F8"
             },
             "line": {
              "color": "white"
             }
            },
            "header": {
             "fill": {
              "color": "#C8D4E3"
             },
             "line": {
              "color": "white"
             }
            },
            "type": "table"
           }
          ]
         },
         "layout": {
          "annotationdefaults": {
           "arrowcolor": "#2a3f5f",
           "arrowhead": 0,
           "arrowwidth": 1
          },
          "autotypenumbers": "strict",
          "coloraxis": {
           "colorbar": {
            "outlinewidth": 0,
            "ticks": ""
           }
          },
          "colorscale": {
           "diverging": [
            [
             0,
             "#8e0152"
            ],
            [
             0.1,
             "#c51b7d"
            ],
            [
             0.2,
             "#de77ae"
            ],
            [
             0.3,
             "#f1b6da"
            ],
            [
             0.4,
             "#fde0ef"
            ],
            [
             0.5,
             "#f7f7f7"
            ],
            [
             0.6,
             "#e6f5d0"
            ],
            [
             0.7,
             "#b8e186"
            ],
            [
             0.8,
             "#7fbc41"
            ],
            [
             0.9,
             "#4d9221"
            ],
            [
             1,
             "#276419"
            ]
           ],
           "sequential": [
            [
             0,
             "#0d0887"
            ],
            [
             0.1111111111111111,
             "#46039f"
            ],
            [
             0.2222222222222222,
             "#7201a8"
            ],
            [
             0.3333333333333333,
             "#9c179e"
            ],
            [
             0.4444444444444444,
             "#bd3786"
            ],
            [
             0.5555555555555556,
             "#d8576b"
            ],
            [
             0.6666666666666666,
             "#ed7953"
            ],
            [
             0.7777777777777778,
             "#fb9f3a"
            ],
            [
             0.8888888888888888,
             "#fdca26"
            ],
            [
             1,
             "#f0f921"
            ]
           ],
           "sequentialminus": [
            [
             0,
             "#0d0887"
            ],
            [
             0.1111111111111111,
             "#46039f"
            ],
            [
             0.2222222222222222,
             "#7201a8"
            ],
            [
             0.3333333333333333,
             "#9c179e"
            ],
            [
             0.4444444444444444,
             "#bd3786"
            ],
            [
             0.5555555555555556,
             "#d8576b"
            ],
            [
             0.6666666666666666,
             "#ed7953"
            ],
            [
             0.7777777777777778,
             "#fb9f3a"
            ],
            [
             0.8888888888888888,
             "#fdca26"
            ],
            [
             1,
             "#f0f921"
            ]
           ]
          },
          "colorway": [
           "#636efa",
           "#EF553B",
           "#00cc96",
           "#ab63fa",
           "#FFA15A",
           "#19d3f3",
           "#FF6692",
           "#B6E880",
           "#FF97FF",
           "#FECB52"
          ],
          "font": {
           "color": "#2a3f5f"
          },
          "geo": {
           "bgcolor": "white",
           "lakecolor": "white",
           "landcolor": "#E5ECF6",
           "showlakes": true,
           "showland": true,
           "subunitcolor": "white"
          },
          "hoverlabel": {
           "align": "left"
          },
          "hovermode": "closest",
          "mapbox": {
           "style": "light"
          },
          "paper_bgcolor": "white",
          "plot_bgcolor": "#E5ECF6",
          "polar": {
           "angularaxis": {
            "gridcolor": "white",
            "linecolor": "white",
            "ticks": ""
           },
           "bgcolor": "#E5ECF6",
           "radialaxis": {
            "gridcolor": "white",
            "linecolor": "white",
            "ticks": ""
           }
          },
          "scene": {
           "xaxis": {
            "backgroundcolor": "#E5ECF6",
            "gridcolor": "white",
            "gridwidth": 2,
            "linecolor": "white",
            "showbackground": true,
            "ticks": "",
            "zerolinecolor": "white"
           },
           "yaxis": {
            "backgroundcolor": "#E5ECF6",
            "gridcolor": "white",
            "gridwidth": 2,
            "linecolor": "white",
            "showbackground": true,
            "ticks": "",
            "zerolinecolor": "white"
           },
           "zaxis": {
            "backgroundcolor": "#E5ECF6",
            "gridcolor": "white",
            "gridwidth": 2,
            "linecolor": "white",
            "showbackground": true,
            "ticks": "",
            "zerolinecolor": "white"
           }
          },
          "shapedefaults": {
           "line": {
            "color": "#2a3f5f"
           }
          },
          "ternary": {
           "aaxis": {
            "gridcolor": "white",
            "linecolor": "white",
            "ticks": ""
           },
           "baxis": {
            "gridcolor": "white",
            "linecolor": "white",
            "ticks": ""
           },
           "bgcolor": "#E5ECF6",
           "caxis": {
            "gridcolor": "white",
            "linecolor": "white",
            "ticks": ""
           }
          },
          "title": {
           "x": 0.05
          },
          "xaxis": {
           "automargin": true,
           "gridcolor": "white",
           "linecolor": "white",
           "ticks": "",
           "title": {
            "standoff": 15
           },
           "zerolinecolor": "white",
           "zerolinewidth": 2
          },
          "yaxis": {
           "automargin": true,
           "gridcolor": "white",
           "linecolor": "white",
           "ticks": "",
           "title": {
            "standoff": 15
           },
           "zerolinecolor": "white",
           "zerolinewidth": 2
          }
         }
        },
        "title": {
         "text": "Heatmap of Traffic Volume Across Areas and Roads"
        },
        "xaxis": {
         "anchor": "y",
         "constrain": "domain",
         "domain": [
          0,
          1
         ],
         "scaleanchor": "y",
         "title": {
          "text": "Road/Intersection Name"
         }
        },
        "yaxis": {
         "anchor": "x",
         "autorange": "reversed",
         "constrain": "domain",
         "domain": [
          0,
          1
         ],
         "title": {
          "text": "Area Name"
         }
        }
       }
      },
      "image/png": "[encoded data removed]"
     },
     "metadata": {},
     "output_type": "display_data"
    }
   ],
   "source": [
    "heatmap_data = df.pivot_table(values='Traffic Volume', index='Area Name', columns='Road/Intersection Name', aggfunc='sum')\n",
    "fig = px.imshow(heatmap_data, labels=dict(x=\"Road/Intersection Name\", y=\"Area Name\", color=\"Traffic Volume\"),\n",
    "                title=\"Heatmap of Traffic Volume Across Areas and Roads\")\n",
    "fig"
   ]
  },
  {
   "cell_type": "markdown",
   "id": "085b3f14",
   "metadata": {
    "papermill": {
     "duration": 0.009119,
     "end_time": "2024-08-22T08:51:45.314485",
     "exception": false,
     "start_time": "2024-08-22T08:51:45.305366",
     "status": "completed"
    },
    "tags": []
   },
   "source": [
    "This heatmap shows that areas such as Koramangala and Indiranagar record higher traffic volumes across multiple roads, marking them as key hubs."
   ]
  },
  {
   "cell_type": "markdown",
   "id": "f66cd256",
   "metadata": {
    "papermill": {
     "duration": 0.008983,
     "end_time": "2024-08-22T08:51:45.332598",
     "exception": false,
     "start_time": "2024-08-22T08:51:45.323615",
     "status": "completed"
    },
    "tags": []
   },
   "source": [
    "# 2. SunBurst Chart\n"
   ]
  },
  {
   "cell_type": "code",
   "execution_count": null,
   "id": "9a435c8c",
   "metadata": {
    "papermill": {
     "duration": 0.261353,
     "end_time": "2024-08-22T08:51:45.603155",
     "exception": false,
     "start_time": "2024-08-22T08:51:45.341802",
     "status": "completed"
    },
    "tags": []
   },
   "outputs": [],
   "source": [
    "fig = px.sunburst(df, path=['Area Name', 'Road/Intersection Name'], values='Traffic Volume',\n",
    "                  title=\"Sunburst Chart of Traffic Volume by Area, Road, and Intersection\")\n",
    "fig.show()"
   ]
  },
  {
   "cell_type": "markdown",
   "id": "8910d6df",
   "metadata": {
    "papermill": {
     "duration": 0.009302,
     "end_time": "2024-08-22T08:51:45.622157",
     "exception": false,
     "start_time": "2024-08-22T08:51:45.612855",
     "status": "completed"
    },
    "tags": []
   },
   "source": [
    "The sunburst chart highlights that within areas such as Koramangala and Indiranagar, roads like Sony World Junction and 100 Feet Road dominate traffic volumes and are major pressure points."
   ]
  },
  {
   "cell_type": "markdown",
   "id": "bbd1102e",
   "metadata": {
    "papermill": {
     "duration": 0.009255,
     "end_time": "2024-08-22T08:51:45.640842",
     "exception": false,
     "start_time": "2024-08-22T08:51:45.631587",
     "status": "completed"
    },
    "tags": []
   },
   "source": [
    "# 3. Scatter Plot"
   ]
  },
  {
   "cell_type": "code",
   "execution_count": null,
   "id": "acb21ba2",
   "metadata": {
    "papermill": {
     "duration": 0.188852,
     "end_time": "2024-08-22T08:51:45.839109",
     "exception": false,
     "start_time": "2024-08-22T08:51:45.650257",
     "status": "completed"
    },
    "tags": []
   },
   "outputs": [],
   "source": [
    "fig = px.scatter(df, x='Traffic Volume', y='Average Speed', color='Congestion Level', \n",
    "                 size='Traffic Volume', hover_data=['Area Name', 'Road/Intersection Name'],\n",
    "                 title=\"Scatter Plot of Traffic Volume vs. Average Speed with Congestion Level\")\n",
    "fig.show()\n"
   ]
  },
  {
   "cell_type": "markdown",
   "id": "e4133758",
   "metadata": {
    "papermill": {
     "duration": 0.016046,
     "end_time": "2024-08-22T08:51:45.872874",
     "exception": false,
     "start_time": "2024-08-22T08:51:45.856828",
     "status": "completed"
    },
    "tags": []
   },
   "source": [
    "This plot shows an inverse relationship between traffic volume and average speed: high-volume areas such as Indiranagar usually record lower speeds, signalling heavier congestion."
   ]
  },
  {
   "cell_type": "markdown",
   "id": "559f0b01",
   "metadata": {
    "papermill": {
     "duration": 0.015975,
     "end_time": "2024-08-22T08:51:45.905140",
     "exception": false,
     "start_time": "2024-08-22T08:51:45.889165",
     "status": "completed"
    },
    "tags": []
   },
   "source": [
    "# 4. BoxPlot"
   ]
  },
  {
   "cell_type": "code",
   "execution_count": null,
   "id": "46751b31",
   "metadata": {
    "papermill": {
     "duration": 0.125882,
     "end_time": "2024-08-22T08:51:46.047120",
     "exception": false,
     "start_time": "2024-08-22T08:51:45.921238",
     "status": "completed"
    },
    "tags": []
   },
   "outputs": [],
   "source": [
    "fig = px.box(df, x='Area Name', y='Travel Time Index', \n",
    "             title=\"Box Plot of Travel Time Index by Area\")\n",
    "fig.show()"
   ]
  },
  {
   "cell_type": "markdown",
   "id": "da80e67c",
   "metadata": {
    "papermill": {
     "duration": 0.018384,
     "end_time": "2024-08-22T08:51:46.084210",
     "exception": false,
     "start_time": "2024-08-22T08:51:46.065826",
     "status": "completed"
    },
    "tags": []
   },
   "source": [
    "Koramangala shows a wider spread in the Travel Time Index, suggesting less predictable travel times and more variable congestion."
   ]
  },
  {
   "cell_type": "markdown",
   "id": "ed34512b",
   "metadata": {
    "papermill": {
     "duration": 0.017914,
     "end_time": "2024-08-22T08:51:46.121209",
     "exception": false,
     "start_time": "2024-08-22T08:51:46.103295",
     "status": "completed"
    },
    "tags": []
   },
   "source": [
    "# 5. PieChart"
   ]
  },
  {
   "cell_type": "code",
   "execution_count": null,
   "id": "0e0bd97d",
   "metadata": {
    "papermill": {
     "duration": 0.089828,
     "end_time": "2024-08-22T08:51:46.230016",
     "exception": false,
     "start_time": "2024-08-22T08:51:46.140188",
     "status": "completed"
    },
    "tags": []
   },
   "outputs": [],
   "source": [
    "incident_data = df.groupby('Area Name')['Incident Reports'].sum().reset_index()\n",
    "fig = px.pie(incident_data, values='Incident Reports', names='Area Name',\n",
    "             title=\"Pie Chart of Incident Reports by Area\")\n",
    "fig.show()\n"
   ]
  },
  {
   "cell_type": "markdown",
   "id": "b195a592",
   "metadata": {
    "papermill": {
     "duration": 0.018601,
     "end_time": "2024-08-22T08:51:46.267283",
     "exception": false,
     "start_time": "2024-08-22T08:51:46.248682",
     "status": "completed"
    },
    "tags": []
   },
   "source": [
    "M.G. Road and Koramangala account for a large share of traffic incidents, signalling the need for added traffic management and safety measures in these areas."
   ]
  },
  {
   "cell_type": "markdown",
   "id": "253af9b8",
   "metadata": {
    "papermill": {
     "duration": 0.018528,
     "end_time": "2024-08-22T08:51:46.304759",
     "exception": false,
     "start_time": "2024-08-22T08:51:46.286231",
     "status": "completed"
    },
    "tags": []
   },
   "source": [
    "# 6. Histogram"
   ]
  },
  {
   "cell_type": "code",
   "execution_count": null,
   "id": "c222d0f7",
   "metadata": {
    "papermill": {
     "duration": 0.105039,
     "end_time": "2024-08-22T08:51:46.428587",
     "exception": false,
     "start_time": "2024-08-22T08:51:46.323548",
     "status": "completed"
    },
    "tags": []
   },
   "outputs": [],
   "source": [
    "fig = px.histogram(df, x='Road Capacity Utilization', nbins=20,\n",
    "                   title=\"Histogram of Road Capacity Utilization\")\n",
    "fig.show()\n"
   ]
  },
  {
   "cell_type": "markdown",
   "id": "46a45af1",
   "metadata": {
    "papermill": {
     "duration": 0.019447,
     "end_time": "2024-08-22T08:51:46.467821",
     "exception": false,
     "start_time": "2024-08-22T08:51:46.448374",
     "status": "completed"
    },
    "tags": []
   },
   "source": [
    "The histogram shows that many roads operate at or near full capacity, indicating a need for either added infrastructure or better traffic flow optimization to prevent overload."
   ]
  },
  {
   "cell_type": "markdown",
   "id": "b81998b4",
   "metadata": {
    "papermill": {
     "duration": 0.019332,
     "end_time": "2024-08-22T08:51:46.506776",
     "exception": false,
     "start_time": "2024-08-22T08:51:46.487444",
     "status": "completed"
    },
    "tags": []
   },
   "source": [
    "# 7. RadialBar Chart"
   ]
  },
  {
   "cell_type": "code",
   "execution_count": null,
   "id": "b8a480b0",
   "metadata": {
    "papermill": {
     "duration": 0.104748,
     "end_time": "2024-08-22T08:51:46.631005",
     "exception": false,
     "start_time": "2024-08-22T08:51:46.526257",
     "status": "completed"
    },
    "tags": []
   },
   "outputs": [],
   "source": [
    "congestion_data = df.groupby('Area Name')['Congestion Level'].mean().reset_index()\n",
    "fig = px.bar_polar(congestion_data, r='Congestion Level', theta='Area Name',\n",
    "                   title=\"Radial Bar Chart of Congestion Levels by Area\")\n",
    "fig.show()"
   ]
  },
  {
   "cell_type": "markdown",
   "id": "f382cc72",
   "metadata": {
    "papermill": {
     "duration": 0.019227,
     "end_time": "2024-08-22T08:51:46.669927",
     "exception": false,
     "start_time": "2024-08-22T08:51:46.650700",
     "status": "completed"
    },
    "tags": []
   },
   "source": [
    "Areas such as M.G. Road and Koramangala exhibit consistently high congestion levels, so the city may need targeted interventions to relieve pressure there."
   ]
  },
  {
   "cell_type": "markdown",
   "id": "1fdad8aa",
   "metadata": {
    "papermill": {
     "duration": 0.019124,
     "end_time": "2024-08-22T08:51:46.708542",
     "exception": false,
     "start_time": "2024-08-22T08:51:46.689418",
     "status": "completed"
    },
    "tags": []
   },
   "source": [
    "# 8. Density Plot"
   ]
  },
  {
   "cell_type": "code",
   "execution_count": 9,
   "id": "240c569f",
   "metadata": {
    "papermill": {
     "duration": 0.1104,
     "end_time": "2024-08-22T08:51:46.838452",
     "exception": false,
     "start_time": "2024-08-22T08:51:46.728052",
     "status": "completed"
    },
    "tags": []
   },
   "outputs": [
    {
     "data": {
      "application/vnd.plotly.v1+json": {
       "config": {
        "plotlyServerURL": "https://plot.ly"
       },
       "data": [
        {
         "contours": {
          "coloring": "none"
         },
         "hovertemplate": "Average Speed=%{x}<br>Traffic Volume=%{y}<br>count=%{z}<extra></extra>",
         "legendgroup": "",
         "line": {
          "color": "#636efa"
         },
         "name": "",
         "showlegend": false,
         "type": "histogram2dcontour",
         "x": {
          "bdata": "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",
          "dtype": "f8"
         },
         "xaxis": "x",
         "xbingroup": "x",
         "y": {
          "bdata": "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",
          "dtype": "i4"
         },
         "yaxis": "y",
         "ybingroup": "y"
        }
       ],
       "layout": {
        "legend": {
         "tracegroupgap": 0
        },
        "template": {
         "data": {
          "bar": [
           {
            "error_x": {
             "color": "#2a3f5f"
            },
            "error_y": {
             "color": "#2a3f5f"
            },
            "marker": {
             "line": {
              "color": "#E5ECF6",
              "width": 0.5
             },
             "pattern": {
              "fillmode": "overlay",
              "size": 10,
              "solidity": 0.2
             }
            },
            "type": "bar"
           }
          ],
          "barpolar": [
           {
            "marker": {
             "line": {
              "color": "#E5ECF6",
              "width": 0.5
             },
             "pattern": {
              "fillmode": "overlay",
              "size": 10,
              "solidity": 0.2
             }
            },
            "type": "barpolar"
           }
          ],
          "carpet": [
           {
            "aaxis": {
             "endlinecolor": "#2a3f5f",
             "gridcolor": "white",
             "linecolor": "white",
             "minorgridcolor": "white",
             "startlinecolor": "#2a3f5f"
            },
            "baxis": {
             "endlinecolor": "#2a3f5f",
             "gridcolor": "white",
             "linecolor": "white",
             "minorgridcolor": "white",
             "startlinecolor": "#2a3f5f"
            },
            "type": "carpet"
           }
          ],
          "choropleth": [
           {
            "colorbar": {
             "outlinewidth": 0,
             "ticks": ""
            },
            "type": "choropleth"
           }
          ],
          "contour": [
           {
            "colorbar": {
             "outlinewidth": 0,
             "ticks": ""
            },
            "colorscale": [
             [
              0,
              "#0d0887"
             ],
             [
              0.1111111111111111,
              "#46039f"
             ],
             [
              0.2222222222222222,
              "#7201a8"
             ],
             [
              0.3333333333333333,
              "#9c179e"
             ],
             [
              0.4444444444444444,
              "#bd3786"
             ],
             [
              0.5555555555555556,
              "#d8576b"
             ],
             [
              0.6666666666666666,
              "#ed7953"
             ],
             [
              0.7777777777777778,
              "#fb9f3a"
             ],
             [
              0.8888888888888888,
              "#fdca26"
             ],
             [
              1,
              "#f0f921"
             ]
            ],
            "type": "contour"
           }
          ],
          "contourcarpet": [
           {
            "colorbar": {
             "outlinewidth": 0,
             "ticks": ""
            },
            "type": "contourcarpet"
           }
          ],
          "heatmap": [
           {
            "colorbar": {
             "outlinewidth": 0,
             "ticks": ""
            },
            "colorscale": [
             [
              0,
              "#0d0887"
             ],
             [
              0.1111111111111111,
              "#46039f"
             ],
             [
              0.2222222222222222,
              "#7201a8"
             ],
             [
              0.3333333333333333,
              "#9c179e"
             ],
             [
              0.4444444444444444,
              "#bd3786"
             ],
             [
              0.5555555555555556,
              "#d8576b"
             ],
             [
              0.6666666666666666,
              "#ed7953"
             ],
             [
              0.7777777777777778,
              "#fb9f3a"
             ],
             [
              0.8888888888888888,
              "#fdca26"
             ],
             [
              1,
              "#f0f921"
             ]
            ],
            "type": "heatmap"
           }
          ],
          "histogram": [
           {
            "marker": {
             "pattern": {
              "fillmode": "overlay",
              "size": 10,
              "solidity": 0.2
             }
            },
            "type": "histogram"
           }
          ],
          "histogram2d": [
           {
            "colorbar": {
             "outlinewidth": 0,
             "ticks": ""
            },
            "colorscale": [
             [
              0,
              "#0d0887"
             ],
             [
              0.1111111111111111,
              "#46039f"
             ],
             [
              0.2222222222222222,
              "#7201a8"
             ],
             [
              0.3333333333333333,
              "#9c179e"
             ],
             [
              0.4444444444444444,
              "#bd3786"
             ],
             [
              0.5555555555555556,
              "#d8576b"
             ],
             [
              0.6666666666666666,
              "#ed7953"
             ],
             [
              0.7777777777777778,
              "#fb9f3a"
             ],
             [
              0.8888888888888888,
              "#fdca26"
             ],
             [
              1,
              "#f0f921"
             ]
            ],
            "type": "histogram2d"
           }
          ],
          "histogram2dcontour": [
           {
            "colorbar": {
             "outlinewidth": 0,
             "ticks": ""
            },
            "colorscale": [
             [
              0,
              "#0d0887"
             ],
             [
              0.1111111111111111,
              "#46039f"
             ],
             [
              0.2222222222222222,
              "#7201a8"
             ],
             [
              0.3333333333333333,
              "#9c179e"
             ],
             [
              0.4444444444444444,
              "#bd3786"
             ],
             [
              0.5555555555555556,
              "#d8576b"
             ],
             [
              0.6666666666666666,
              "#ed7953"
             ],
             [
              0.7777777777777778,
              "#fb9f3a"
             ],
             [
              0.8888888888888888,
              "#fdca26"
             ],
             [
              1,
              "#f0f921"
             ]
            ],
            "type": "histogram2dcontour"
           }
          ],
          "mesh3d": [
           {
            "colorbar": {
             "outlinewidth": 0,
             "ticks": ""
            },
            "type": "mesh3d"
           }
          ],
          "parcoords": [
           {
            "line": {
             "colorbar": {
              "outlinewidth": 0,
              "ticks": ""
             }
            },
            "type": "parcoords"
           }
          ],
          "pie": [
           {
            "automargin": true,
            "type": "pie"
           }
          ],
          "scatter": [
           {
            "fillpattern": {
             "fillmode": "overlay",
             "size": 10,
             "solidity": 0.2
            },
            "type": "scatter"
           }
          ],
          "scatter3d": [
           {
            "line": {
             "colorbar": {
              "outlinewidth": 0,
              "ticks": ""
             }
            },
            "marker": {
             "colorbar": {
              "outlinewidth": 0,
              "ticks": ""
             }
            },
            "type": "scatter3d"
           }
          ],
          "scattercarpet": [
           {
            "marker": {
             "colorbar": {
              "outlinewidth": 0,
              "ticks": ""
             }
            },
            "type": "scattercarpet"
           }
          ],
          "scattergeo": [
           {
            "marker": {
             "colorbar": {
              "outlinewidth": 0,
              "ticks": ""
             }
            },
            "type": "scattergeo"
           }
          ],
          "scattergl": [
           {
            "marker": {
             "colorbar": {
              "outlinewidth": 0,
              "ticks": ""
             }
            },
            "type": "scattergl"
           }
          ],
          "scattermap": [
           {
            "marker": {
             "colorbar": {
              "outlinewidth": 0,
              "ticks": ""
             }
            },
            "type": "scattermap"
           }
          ],
          "scattermapbox": [
           {
            "marker": {
             "colorbar": {
              "outlinewidth": 0,
              "ticks": ""
             }
            },
            "type": "scattermapbox"
           }
          ],
          "scatterpolar": [
           {
            "marker": {
             "colorbar": {
              "outlinewidth": 0,
              "ticks": ""
             }
            },
            "type": "scatterpolar"
           }
          ],
          "scatterpolargl": [
           {
            "marker": {
             "colorbar": {
              "outlinewidth": 0,
              "ticks": ""
             }
            },
            "type": "scatterpolargl"
           }
          ],
          "scatterternary": [
           {
            "marker": {
             "colorbar": {
              "outlinewidth": 0,
              "ticks": ""
             }
            },
            "type": "scatterternary"
           }
          ],
          "surface": [
           {
            "colorbar": {
             "outlinewidth": 0,
             "ticks": ""
            },
            "colorscale": [
             [
              0,
              "#0d0887"
             ],
             [
              0.1111111111111111,
              "#46039f"
             ],
             [
              0.2222222222222222,
              "#7201a8"
             ],
             [
              0.3333333333333333,
              "#9c179e"
             ],
             [
              0.4444444444444444,
              "#bd3786"
             ],
             [
              0.5555555555555556,
              "#d8576b"
             ],
             [
              0.6666666666666666,
              "#ed7953"
             ],
             [
              0.7777777777777778,
              "#fb9f3a"
             ],
             [
              0.8888888888888888,
              "#fdca26"
             ],
             [
              1,
              "#f0f921"
             ]
            ],
            "type": "surface"
           }
          ],
          "table": [
           {
            "cells": {
             "fill": {
              "color": "#EBF0F8"
             },
             "line": {
              "color": "white"
             }
            },
            "header": {
             "fill": {
              "color": "#C8D4E3"
             },
             "line": {
              "color": "white"
             }
            },
            "type": "table"
           }
          ]
         },
         "layout": {
          "annotationdefaults": {
           "arrowcolor": "#2a3f5f",
           "arrowhead": 0,
           "arrowwidth": 1
          },
          "autotypenumbers": "strict",
          "coloraxis": {
           "colorbar": {
            "outlinewidth": 0,
            "ticks": ""
           }
          },
          "colorscale": {
           "diverging": [
            [
             0,
             "#8e0152"
            ],
            [
             0.1,
             "#c51b7d"
            ],
            [
             0.2,
             "#de77ae"
            ],
            [
             0.3,
             "#f1b6da"
            ],
            [
             0.4,
             "#fde0ef"
            ],
            [
             0.5,
             "#f7f7f7"
            ],
            [
             0.6,
             "#e6f5d0"
            ],
            [
             0.7,
             "#b8e186"
            ],
            [
             0.8,
             "#7fbc41"
            ],
            [
             0.9,
             "#4d9221"
            ],
            [
             1,
             "#276419"
            ]
           ],
           "sequential": [
            [
             0,
             "#0d0887"
            ],
            [
             0.1111111111111111,
             "#46039f"
            ],
            [
             0.2222222222222222,
             "#7201a8"
            ],
            [
             0.3333333333333333,
             "#9c179e"
            ],
            [
             0.4444444444444444,
             "#bd3786"
            ],
            [
             0.5555555555555556,
             "#d8576b"
            ],
            [
             0.6666666666666666,
             "#ed7953"
            ],
            [
             0.7777777777777778,
             "#fb9f3a"
            ],
            [
             0.8888888888888888,
             "#fdca26"
            ],
            [
             1,
             "#f0f921"
            ]
           ],
           "sequentialminus": [
            [
             0,
             "#0d0887"
            ],
            [
             0.1111111111111111,
             "#46039f"
            ],
            [
             0.2222222222222222,
             "#7201a8"
            ],
            [
             0.3333333333333333,
             "#9c179e"
            ],
            [
             0.4444444444444444,
             "#bd3786"
            ],
            [
             0.5555555555555556,
             "#d8576b"
            ],
            [
             0.6666666666666666,
             "#ed7953"
            ],
            [
             0.7777777777777778,
             "#fb9f3a"
            ],
            [
             0.8888888888888888,
             "#fdca26"
            ],
            [
             1,
             "#f0f921"
            ]
           ]
          },
          "colorway": [
           "#636efa",
           "#EF553B",
           "#00cc96",
           "#ab63fa",
           "#FFA15A",
           "#19d3f3",
           "#FF6692",
           "#B6E880",
           "#FF97FF",
           "#FECB52"
          ],
          "font": {
           "color": "#2a3f5f"
          },
          "geo": {
           "bgcolor": "white",
           "lakecolor": "white",
           "landcolor": "#E5ECF6",
           "showlakes": true,
           "showland": true,
           "subunitcolor": "white"
          },
          "hoverlabel": {
           "align": "left"
          },
          "hovermode": "closest",
          "mapbox": {
           "style": "light"
          },
          "paper_bgcolor": "white",
          "plot_bgcolor": "#E5ECF6",
          "polar": {
           "angularaxis": {
            "gridcolor": "white",
            "linecolor": "white",
            "ticks": ""
           },
           "bgcolor": "#E5ECF6",
           "radialaxis": {
            "gridcolor": "white",
            "linecolor": "white",
            "ticks": ""
           }
          },
          "scene": {
           "xaxis": {
            "backgroundcolor": "#E5ECF6",
            "gridcolor": "white",
            "gridwidth": 2,
            "linecolor": "white",
            "showbackground": true,
            "ticks": "",
            "zerolinecolor": "white"
           },
           "yaxis": {
            "backgroundcolor": "#E5ECF6",
            "gridcolor": "white",
            "gridwidth": 2,
            "linecolor": "white",
            "showbackground": true,
            "ticks": "",
            "zerolinecolor": "white"
           },
           "zaxis": {
            "backgroundcolor": "#E5ECF6",
            "gridcolor": "white",
            "gridwidth": 2,
            "linecolor": "white",
            "showbackground": true,
            "ticks": "",
            "zerolinecolor": "white"
           }
          },
          "shapedefaults": {
           "line": {
            "color": "#2a3f5f"
           }
          },
          "ternary": {
           "aaxis": {
            "gridcolor": "white",
            "linecolor": "white",
            "ticks": ""
           },
           "baxis": {
            "gridcolor": "white",
            "linecolor": "white",
            "ticks": ""
           },
           "bgcolor": "#E5ECF6",
           "caxis": {
            "gridcolor": "white",
            "linecolor": "white",
            "ticks": ""
           }
          },
          "title": {
           "x": 0.05
          },
          "xaxis": {
           "automargin": true,
           "gridcolor": "white",
           "linecolor": "white",
           "ticks": "",
           "title": {
            "standoff": 15
           },
           "zerolinecolor": "white",
           "zerolinewidth": 2
          },
          "yaxis": {
           "automargin": true,
           "gridcolor": "white",
           "linecolor": "white",
           "ticks": "",
           "title": {
            "standoff": 15
           },
           "zerolinecolor": "white",
           "zerolinewidth": 2
          }
         }
        },
        "title": {
         "text": "Density Plot of Average Speed and Traffic Volume"
        },
        "xaxis": {
         "anchor": "y",
         "domain": [
          0,
          1
         ],
         "title": {
          "text": "Average Speed"
         }
        },
        "yaxis": {
         "anchor": "x",
         "domain": [
          0,
          1
         ],
         "title": {
          "text": "Traffic Volume"
         }
        }
       }
      },
      "image/png": "[encoded data removed]"
     },
     "metadata": {},
     "output_type": "display_data"
    }
   ],
   "source": [
    "fig = px.density_contour(df, x='Average Speed', y='Traffic Volume',\n",
    "                         title=\"Density Plot of Average Speed and Traffic Volume\")\n",
    "fig.show()"
   ]
  },
  {
   "cell_type": "markdown",
   "id": "064e77ad",
   "metadata": {
    "papermill": {
     "duration": 0.02224,
     "end_time": "2024-08-22T08:51:46.883301",
     "exception": false,
     "start_time": "2024-08-22T08:51:46.861061",
     "status": "completed"
    },
    "tags": []
   },
   "source": [
    "The density plot shows traffic clustering around moderate speeds and high volumes, suggesting similar flow patterns across much of the city."
   ]
  },
  {
   "cell_type": "markdown",
   "id": "8a883677",
   "metadata": {
    "papermill": {
     "duration": 0.023479,
     "end_time": "2024-08-22T08:51:46.930272",
     "exception": false,
     "start_time": "2024-08-22T08:51:46.906793",
     "status": "completed"
    },
    "tags": []
   },
   "source": [
    "# 9. Stacked Bar Chart"
   ]
  },
  {
   "cell_type": "code",
   "execution_count": null,
   "id": "635d91e9",
   "metadata": {
    "papermill": {
     "duration": 0.15626,
     "end_time": "2024-08-22T08:51:47.109982",
     "exception": false,
     "start_time": "2024-08-22T08:51:46.953722",
     "status": "completed"
    },
    "tags": []
   },
   "outputs": [],
   "source": [
    "fig = px.histogram(df, x='Weather Conditions', y='Traffic Volume', color='Area Name', \n",
    "                   barmode='stack', title=\"Stacked Bar Chart of Traffic Volume by Weather Conditions\")\n",
    "fig.show()"
   ]
  },
  {
   "cell_type": "markdown",
   "id": "ac4abd0e",
   "metadata": {
    "papermill": {
     "duration": 0.02504,
     "end_time": "2024-08-22T08:51:47.161312",
     "exception": false,
     "start_time": "2024-08-22T08:51:47.136272",
     "status": "completed"
    },
    "tags": []
   },
   "source": [
    "Clear weather corresponds with higher traffic volumes across all areas, implying that adverse conditions tend to suppress road usage."
   ]
  },
  {
   "cell_type": "markdown",
   "id": "a8a5d148",
   "metadata": {
    "papermill": {
     "duration": 0.026317,
     "end_time": "2024-08-22T08:51:47.213931",
     "exception": false,
     "start_time": "2024-08-22T08:51:47.187614",
     "status": "completed"
    },
    "tags": []
   },
   "source": [
    "# K-Means Clustering."
   ]
  },
  {
   "cell_type": "code",
   "execution_count": null,
   "id": "be1082ca",
   "metadata": {
    "papermill": {
     "duration": 2.068357,
     "end_time": "2024-08-22T08:51:49.308855",
     "exception": false,
     "start_time": "2024-08-22T08:51:47.240498",
     "status": "completed"
    },
    "tags": []
   },
   "outputs": [],
   "source": [
    "import pandas as pd\n",
    "from sklearn.preprocessing import StandardScaler\n",
    "from sklearn.decomposition import PCA\n",
    "from sklearn.cluster import KMeans\n",
    "import matplotlib.pyplot as plt\n",
    "import seaborn as sns\n",
    "\n",
    "numerical_columns = [\n",
    "    'Traffic Volume', 'Average Speed', 'Travel Time Index', 'Congestion Level',\n",
    "    'Road Capacity Utilization', 'Incident Reports', 'Environmental Impact',\n",
    "    'Public Transport Usage', 'Traffic Signal Compliance', 'Parking Usage',\n",
    "    'Pedestrian and Cyclist Count'\n",
    "]\n",
    "numerical_data = df[numerical_columns]"
   ]
  },
  {
   "cell_type": "markdown",
   "id": "1cd001d9",
   "metadata": {
    "papermill": {
     "duration": 0.025491,
     "end_time": "2024-08-22T08:51:49.360157",
     "exception": false,
     "start_time": "2024-08-22T08:51:49.334666",
     "status": "completed"
    },
    "tags": []
   },
   "source": [
    "### Data Standardization- StandardScaler transforms the numerical features to a mean of 0 and a standard deviation of 1.### Dimensionality Reduction with PCA- PCA reduces the data to two components so that clustering is easier to visualise."
   ]
  },
  {
   "cell_type": "code",
   "execution_count": null,
   "id": "4926ab5a",
   "metadata": {
    "papermill": {
     "duration": 0.136589,
     "end_time": "2024-08-22T08:51:49.522302",
     "exception": false,
     "start_time": "2024-08-22T08:51:49.385713",
     "status": "completed"
    },
    "tags": []
   },
   "outputs": [],
   "source": [
    "# Standardize the Data\n",
    "scaler = StandardScaler()\n",
    "scaled_data = scaler.fit_transform(numerical_data)\n",
    "\n",
    "# Apply PCA\n",
    "pca = PCA(n_components=2)\n",
    "pca_data = pca.fit_transform(scaled_data)"
   ]
  },
  {
   "cell_type": "markdown",
   "id": "1a33fa68",
   "metadata": {
    "papermill": {
     "duration": 0.036046,
     "end_time": "2024-08-22T08:51:49.649947",
     "exception": false,
     "start_time": "2024-08-22T08:51:49.613901",
     "status": "completed"
    },
    "tags": []
   },
   "source": [
    "### Elbow Method for Selecting k- The elbow curve plots inertia against candidate k values and highlights where the improvements begin to level off."
   ]
  },
  {
   "cell_type": "code",
   "execution_count": null,
   "id": "7a852d07",
   "metadata": {
    "papermill": {
     "duration": 11.984501,
     "end_time": "2024-08-22T08:52:01.660996",
     "exception": false,
     "start_time": "2024-08-22T08:51:49.676495",
     "status": "completed"
    },
    "tags": []
   },
   "outputs": [],
   "source": [
    "inertia = []\n",
    "K = range(1, 11)\n",
    "for k in K:\n",
    "    kmeans = KMeans(n_clusters=k, random_state=42)\n",
    "    kmeans.fit(pca_data)\n",
    "    inertia.append(kmeans.inertia_)\n",
    "\n",
    "plt.figure(figsize=(10, 6))\n",
    "plt.plot(K, inertia, 'bo-', markersize=8)\n",
    "plt.xlabel('Number of Clusters (k)')\n",
    "plt.ylabel('Inertia')\n",
    "plt.title('Elbow Method for Optimal k')\n",
    "plt.show()\n"
   ]
  },
  {
   "cell_type": "markdown",
   "id": "e74d6f52",
   "metadata": {
    "papermill": {
     "duration": 0.024957,
     "end_time": "2024-08-22T08:52:01.712493",
     "exception": false,
     "start_time": "2024-08-22T08:52:01.687536",
     "status": "completed"
    },
    "tags": []
   },
   "source": [
    "### K-means Clustering- Run k-means on the PCA-reduced data with k = 2 and attach the labels back to the original dataset.- Visualise the clusters on the PCA plane and compare feature distributions with boxplots to understand their characteristics."
   ]
  },
  {
   "cell_type": "code",
   "execution_count": null,
   "id": "f0b637d8",
   "metadata": {
    "papermill": {
     "duration": 1.476615,
     "end_time": "2024-08-22T08:52:03.215405",
     "exception": false,
     "start_time": "2024-08-22T08:52:01.738790",
     "status": "completed"
    },
    "tags": []
   },
   "outputs": [],
   "source": [
    "\n",
    "optimal_k = 2\n",
    "\n",
    "kmeans = KMeans(n_clusters=optimal_k, random_state=42)\n",
    "kmeans.fit(pca_data)\n",
    "df['Cluster'] = kmeans.labels_\n",
    "\n",
    "# Visualize the Clusters\n",
    "plt.figure(figsize=(10, 7))\n",
    "plt.scatter(pca_data[:, 0], pca_data[:, 1], c=df['Cluster'], cmap='viridis', s=50)\n",
    "plt.title(f'K-means Clustering with {optimal_k} Clusters')\n",
    "plt.xlabel('PCA Component 1')\n",
    "plt.ylabel('PCA Component 2')\n",
    "plt.colorbar(label='Cluster')\n",
    "plt.show()\n",
    "\n",
    "# Inspect Cluster Centers in Original Feature Space\n",
    "cluster_centers = kmeans.cluster_centers_\n",
    "cluster_centers_df = pd.DataFrame(cluster_centers)\n",
    "print(cluster_centers_df)"
   ]
  },
  {
   "cell_type": "code",
   "execution_count": null,
   "id": "debfc902",
   "metadata": {
    "papermill": {
     "duration": 1.989243,
     "end_time": "2024-08-22T08:52:05.234491",
     "exception": false,
     "start_time": "2024-08-22T08:52:03.245248",
     "status": "completed"
    },
    "tags": []
   },
   "outputs": [],
   "source": [
    "plt.figure(figsize=(15, 10))\n",
    "\n",
    "for i, column in enumerate(numerical_columns, 1):\n",
    "    plt.subplot(4, 3, i)\n",
    "    sns.boxplot(x='Cluster', y=column, data=df)\n",
    "    plt.title(f'Boxplot of {column} by Cluster')\n",
    "    plt.xticks(rotation=45)\n",
    "\n",
    "# Adjust layout and show the plot\n",
    "plt.tight_layout()\n",
    "plt.show()"
   ]
  },
  {
   "cell_type": "markdown",
   "id": "5feddc36",
   "metadata": {
    "papermill": {
     "duration": 0.029556,
     "end_time": "2024-08-22T08:52:05.295443",
     "exception": false,
     "start_time": "2024-08-22T08:52:05.265887",
     "status": "completed"
    },
    "tags": []
   },
   "source": [
    "## Cluster 0"
   ]
  },
  {
   "cell_type": "markdown",
   "id": "d7f87b22",
   "metadata": {
    "papermill": {
     "duration": 0.076084,
     "end_time": "2024-08-22T08:52:05.402611",
     "exception": false,
     "start_time": "2024-08-22T08:52:05.326527",
     "status": "completed"
    },
    "tags": []
   },
   "source": [
    "Cluster 0 covers areas with lower traffic volumes and moderate speeds (median roughly 25,000 vehicles and 50 km/h, with some low-end outliers).- The travel time index stays near 1.5, signalling typical peak-hour congestion with occasional variability.- Congestion levels centre on 40–50%, though conditions range widely across roads."
   ]
  },
  {
   "cell_type": "markdown",
   "id": "bf95b5e1",
   "metadata": {
    "papermill": {
     "duration": 0.030845,
     "end_time": "2024-08-22T08:52:05.464454",
     "exception": false,
     "start_time": "2024-08-22T08:52:05.433609",
     "status": "completed"
    },
    "tags": []
   },
   "source": [
    "- Road capacity utilisation typically sits around 75–80%, although some corridors operate much higher or lower.- Incident reports are generally low (median close to two) but occasionally spike.- Environmental impact is modest with a median near 100 units, though a few locations register higher stress.- Public transport usage is balanced at roughly 50–60%.- Traffic signal compliance hovers around 80% across the cluster.- Parking usage sits near 80%, and pedestrian or cyclist counts are relatively high (median about 150)."
   ]
  },
  {
   "cell_type": "markdown",
   "id": "a86488bf",
   "metadata": {
    "papermill": {
     "duration": 0.030858,
     "end_time": "2024-08-22T08:52:05.526438",
     "exception": false,
     "start_time": "2024-08-22T08:52:05.495580",
     "status": "completed"
    },
    "tags": []
   },
   "source": [
    "## Cluster 1"
   ]
  },
  {
   "cell_type": "markdown",
   "id": "f5695913",
   "metadata": {
    "papermill": {
     "duration": 0.030842,
     "end_time": "2024-08-22T08:52:05.588707",
     "exception": false,
     "start_time": "2024-08-22T08:52:05.557865",
     "status": "completed"
    },
    "tags": []
   },
   "source": [
    "Cluster 1 captures the more congested urban corridors, averaging about 40,000 vehicles with median speeds near 30 km/h.- The travel time index still centres around 1.5 but shows many outliers, signalling severe congestion in some segments.- Congestion levels sit near 100%, indicating that several roads run at full load during peak periods.- Road capacity utilisation clusters around 100%, and incidents are more common (median about two with a wide spread)."
   ]
  },
  {
   "cell_type": "markdown",
   "id": "43f37532",
   "metadata": {
    "papermill": {
     "duration": 0.031534,
     "end_time": "2024-08-22T08:52:05.651466",
     "exception": false,
     "start_time": "2024-08-22T08:52:05.619932",
     "status": "completed"
    },
    "tags": []
   },
   "source": [
    "- Environmental impact is higher in this cluster with a median close to 150 units and some very stressed corridors.- Public transport usage is slightly higher than in Cluster 0, at roughly 60–70%.- Traffic signal compliance mirrors Cluster 0 near 80%.- Parking demand remains high at about 80%.- Pedestrian and cyclist counts dip slightly to a median near 100."
   ]
  },
  {
   "cell_type": "markdown",
   "id": "b9e503e6",
   "metadata": {
    "papermill": {
     "duration": 0.031735,
     "end_time": "2024-08-22T08:52:05.714810",
     "exception": false,
     "start_time": "2024-08-22T08:52:05.683075",
     "status": "completed"
    },
    "tags": []
   },
   "source": [
    "# Rule Based Inference."
   ]
  },
  {
   "cell_type": "markdown",
   "id": "b7d2ef88",
   "metadata": {
    "papermill": {
     "duration": 0.03101,
     "end_time": "2024-08-22T08:52:05.777211",
     "exception": false,
     "start_time": "2024-08-22T08:52:05.746201",
     "status": "completed"
    },
    "tags": []
   },
   "source": [
    "This step aggregates traffic metrics by area and road, summarises incidents and environmental impact, and generates tailored advisories covering congestion, speed, travel time, and weather."
   ]
  },
  {
   "cell_type": "code",
   "execution_count": null,
   "id": "c5a52d72",
   "metadata": {
    "papermill": {
     "duration": 0.070231,
     "end_time": "2024-08-22T08:52:05.879041",
     "exception": false,
     "start_time": "2024-08-22T08:52:05.808810",
     "status": "completed"
    },
    "tags": []
   },
   "outputs": [],
   "source": [
    "aggregated_df = df.groupby(['Area Name', 'Road/Intersection Name']).agg({\n",
    "    'Traffic Volume': 'mean',\n",
    "    'Average Speed': 'mean',\n",
    "    'Travel Time Index': 'mean',\n",
    "    'Congestion Level': 'mean',\n",
    "    'Road Capacity Utilization': 'mean',\n",
    "    'Incident Reports': 'sum',\n",
    "    'Environmental Impact': 'mean',\n",
    "    'Public Transport Usage': 'mean',\n",
    "    'Traffic Signal Compliance': 'mean',\n",
    "    'Parking Usage': 'mean',\n",
    "    'Pedestrian and Cyclist Count': 'mean',\n",
    "    'Weather Conditions': lambda x: x.mode()[0],\n",
    "    'Roadwork and Construction Activity': lambda x: x.mode()[0]\n",
    "}).reset_index()\n",
    "\n",
    "\n",
    "def generate_overall_advisory(row):\n",
    "    advisories = []\n",
    "\n",
    "    # Congestion Level Advisory\n",
    "    if row['Congestion Level'] > 75:\n",
    "        advisories.append(\"High Congestion: Recommend avoiding this area during peak hours.\")\n",
    "    elif row['Congestion Level'] > 50 and row['Congestion Level']<75:\n",
    "        advisories.append(\"Moderate Congestion: Expect delays, consider alternate routes.\")\n",
    "    else:\n",
    "        advisories.append(\"Low Congestion: Traffic flow is smooth.\")\n",
    "\n",
    "    # Incident Reports Advisory\n",
    "    if row['Incident Reports'] > 10:  # Adjust threshold based on the entire data\n",
    "        advisories.append(\"High Incident Rate: Increased likelihood of delays due to incidents.\")\n",
    "    elif row['Incident Reports'] > 5:\n",
    "        advisories.append(\"Moderate Incident Rate: Stay alert for possible minor delays.\")\n",
    "    else:\n",
    "        advisories.append(\"Low Incident Rate: No significant incidents reported.\")\n",
    "\n",
    "    # Environmental Impact Advisory\n",
    "    if row['Environmental Impact'] > 150:\n",
    "        advisories.append(\"High Environmental Impact: Consider reducing travel in this area to lower emissions.\")\n",
    "    elif row['Environmental Impact'] > 100:\n",
    "        advisories.append(\"Moderate Environmental Impact: Monitor air quality if sensitive.\")\n",
    "    else:\n",
    "        advisories.append(\"Low Environmental Impact: Air quality is within acceptable limits.\")\n",
    "\n",
    "    # Average Speed Advisory\n",
    "    if row['Average Speed'] < 20:\n",
    "        advisories.append(\"Low Speed: Traffic is slow, possibly due to congestion or road conditions.\")\n",
    "    elif row['Average Speed'] < 40:\n",
    "        advisories.append(\"Moderate Speed: Traffic is moving but not at optimal speed.\")\n",
    "    else:\n",
    "        advisories.append(\"High Speed: Traffic is moving smoothly.\")\n",
    "\n",
    "    # Travel Time Index Advisory\n",
    "    if row['Travel Time Index'] > 1.3:\n",
    "        advisories.append(\"High Travel Time Index: Expect longer travel times than usual.\")\n",
    "    else:\n",
    "        advisories.append(\"Normal Travel Time Index: Travel times are as expected.\")\n",
    "\n",
    "    # Weather Conditions Advisory\n",
    "    if row['Weather Conditions'] == 'Rain':\n",
    "        advisories.append(\"Wet Conditions: Exercise caution due to wet roads.\")\n",
    "    elif row['Weather Conditions'] == 'Fog':\n",
    "        advisories.append(\"Low Visibility: Drive carefully due to fog.\")\n",
    "    elif row['Weather Conditions'] == 'Clear':\n",
    "        advisories.append(\"Clear Weather: No adverse weather conditions reported.\")\n",
    "\n",
    "    # Combine all advisories into a single string\n",
    "    return \" | \".join(advisories)\n",
    "\n",
    "aggregated_df['Overall Advisory'] = aggregated_df.apply(generate_overall_advisory, axis=1)\n",
    "\n",
    "for index, row in aggregated_df.iterrows():\n",
    "    print(f\"Area: {row['Area Name']}, Street: {row['Road/Intersection Name']}\")\n",
    "    print('\\n')\n",
    "    print(f\"Overall Advisory: {row['Overall Advisory']}\")\n",
    "    print(\"-\" * 180)\n"
   ]
  }
 ],
 "metadata": {
  "kaggle": {
   "accelerator": "none",
   "dataSources": [
    {
     "datasetId": 5577758,
     "sourceId": 9223034,
     "sourceType": "datasetVersion"
    }
   ],
   "dockerImageVersionId": 30761,
   "isGpuEnabled": false,
   "isInternetEnabled": true,
   "language": "python",
   "sourceType": "notebook"
  },
  "kernelspec": {
   "display_name": "Python 3 (ipykernel)",
   "language": "python",
   "name": "python3"
  },
  "language_info": {
   "codemirror_mode": {
    "name": "ipython",
    "version": 3
   },
   "file_extension": ".py",
   "mimetype": "text/x-python",
   "name": "python",
   "nbconvert_exporter": "python",
   "pygments_lexer": "ipython3",
   "version": "3.12.3"
  },
  "papermill": {
   "default_parameters": {},
   "duration": 27.308116,
   "end_time": "2024-08-22T08:52:06.632603",
   "environment_variables": {},
   "exception": null,
   "input_path": "__notebook__.ipynb",
   "output_path": "__notebook__.ipynb",
   "parameters": {},
   "start_time": "2024-08-22T08:51:39.324487",
   "version": "2.6.0"
  }
 },
 "nbformat": 4,
 "nbformat_minor": 5
}
