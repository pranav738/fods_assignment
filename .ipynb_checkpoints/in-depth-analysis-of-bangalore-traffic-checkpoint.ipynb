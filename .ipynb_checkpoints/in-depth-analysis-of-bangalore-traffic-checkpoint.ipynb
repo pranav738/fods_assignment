{
 "cells": [
  {
   "cell_type": "markdown",
   "id": "0e3f12d8",
   "metadata": {
    "papermill": {
     "duration": 0.008799,
     "end_time": "2024-08-22T08:51:42.898035",
     "exception": false,
     "start_time": "2024-08-22T08:51:42.889236",
     "status": "completed"
    },
    "tags": []
   },
   "source": [
    "# Introduction and Data Loading\n",
    "This dataset captures detailed traffic patterns across major roads and intersections in Bangalore. "
   ]
  },
  {
   "cell_type": "code",
   "execution_count": 4,
   "id": "0126e48c",
   "metadata": {
    "papermill": {
     "duration": 0.070515,
     "end_time": "2024-08-22T08:51:42.977576",
     "exception": false,
     "start_time": "2024-08-22T08:51:42.907061",
     "status": "completed"
    },
    "tags": []
   },
   "outputs": [],
   "source": [
    "import numpy as np\n",
    "import pandas as pd\n",
    "\n",
    "df = pd.read_csv('~/projects/fods_assignment/datasets/processed/enriched_sample.csv')"
   ]
  },
  {
   "cell_type": "code",
   "execution_count": 5,
   "id": "411e9122",
   "metadata": {
    "papermill": {
     "duration": 0.565044,
     "end_time": "2024-08-22T08:51:43.551843",
     "exception": false,
     "start_time": "2024-08-22T08:51:42.986799",
     "status": "completed"
    },
    "tags": []
   },
   "outputs": [],
   "source": [
    "import pandas as pd\n",
    "import plotly.express as px\n",
    "import plotly.graph_objects as go"
   ]
  },
  {
   "cell_type": "code",
   "execution_count": 7,
   "id": "069b8a45-091d-4da4-9628-03d1ef093065",
   "metadata": {},
   "outputs": [
    {
     "data": {
      "text/html": [
       "<div>\n",
       "<style scoped>\n",
       "    .dataframe tbody tr th:only-of-type {\n",
       "        vertical-align: middle;\n",
       "    }\n",
       "\n",
       "    .dataframe tbody tr th {\n",
       "        vertical-align: top;\n",
       "    }\n",
       "\n",
       "    .dataframe thead th {\n",
       "        text-align: right;\n",
       "    }\n",
       "</style>\n",
       "<table border=\"1\" class=\"dataframe\">\n",
       "  <thead>\n",
       "    <tr style=\"text-align: right;\">\n",
       "      <th></th>\n",
       "      <th>Date</th>\n",
       "      <th>Area Name</th>\n",
       "      <th>Road/Intersection Name</th>\n",
       "      <th>Traffic Volume</th>\n",
       "      <th>Average Speed</th>\n",
       "      <th>Travel Time Index</th>\n",
       "      <th>Congestion Level</th>\n",
       "      <th>Road Capacity Utilization</th>\n",
       "      <th>Incident Reports</th>\n",
       "      <th>Environmental Impact</th>\n",
       "      <th>...</th>\n",
       "      <th>windgust</th>\n",
       "      <th>windspeed</th>\n",
       "      <th>winddir</th>\n",
       "      <th>cloudcover</th>\n",
       "      <th>visibility</th>\n",
       "      <th>solarradiation</th>\n",
       "      <th>uvindex</th>\n",
       "      <th>day_of_week</th>\n",
       "      <th>is_holiday</th>\n",
       "      <th>minutes_of_daylight</th>\n",
       "    </tr>\n",
       "  </thead>\n",
       "  <tbody>\n",
       "    <tr>\n",
       "      <th>count</th>\n",
       "      <td>8936</td>\n",
       "      <td>8936</td>\n",
       "      <td>8936</td>\n",
       "      <td>8936.000000</td>\n",
       "      <td>8936.000000</td>\n",
       "      <td>8936.000000</td>\n",
       "      <td>8936.000000</td>\n",
       "      <td>8936.000000</td>\n",
       "      <td>8936.000000</td>\n",
       "      <td>8936.000000</td>\n",
       "      <td>...</td>\n",
       "      <td>8936.000000</td>\n",
       "      <td>8936.000000</td>\n",
       "      <td>8936.000000</td>\n",
       "      <td>8936.000000</td>\n",
       "      <td>8936.000000</td>\n",
       "      <td>8936.000000</td>\n",
       "      <td>8936.000000</td>\n",
       "      <td>8936</td>\n",
       "      <td>8936</td>\n",
       "      <td>8936.000000</td>\n",
       "    </tr>\n",
       "    <tr>\n",
       "      <th>unique</th>\n",
       "      <td>952</td>\n",
       "      <td>8</td>\n",
       "      <td>16</td>\n",
       "      <td>NaN</td>\n",
       "      <td>NaN</td>\n",
       "      <td>NaN</td>\n",
       "      <td>NaN</td>\n",
       "      <td>NaN</td>\n",
       "      <td>NaN</td>\n",
       "      <td>NaN</td>\n",
       "      <td>...</td>\n",
       "      <td>NaN</td>\n",
       "      <td>NaN</td>\n",
       "      <td>NaN</td>\n",
       "      <td>NaN</td>\n",
       "      <td>NaN</td>\n",
       "      <td>NaN</td>\n",
       "      <td>NaN</td>\n",
       "      <td>7</td>\n",
       "      <td>2</td>\n",
       "      <td>NaN</td>\n",
       "    </tr>\n",
       "    <tr>\n",
       "      <th>top</th>\n",
       "      <td>2023-01-24</td>\n",
       "      <td>Indiranagar</td>\n",
       "      <td>100 Feet Road</td>\n",
       "      <td>NaN</td>\n",
       "      <td>NaN</td>\n",
       "      <td>NaN</td>\n",
       "      <td>NaN</td>\n",
       "      <td>NaN</td>\n",
       "      <td>NaN</td>\n",
       "      <td>NaN</td>\n",
       "      <td>...</td>\n",
       "      <td>NaN</td>\n",
       "      <td>NaN</td>\n",
       "      <td>NaN</td>\n",
       "      <td>NaN</td>\n",
       "      <td>NaN</td>\n",
       "      <td>NaN</td>\n",
       "      <td>NaN</td>\n",
       "      <td>Tuesday</td>\n",
       "      <td>False</td>\n",
       "      <td>NaN</td>\n",
       "    </tr>\n",
       "    <tr>\n",
       "      <th>freq</th>\n",
       "      <td>15</td>\n",
       "      <td>1720</td>\n",
       "      <td>860</td>\n",
       "      <td>NaN</td>\n",
       "      <td>NaN</td>\n",
       "      <td>NaN</td>\n",
       "      <td>NaN</td>\n",
       "      <td>NaN</td>\n",
       "      <td>NaN</td>\n",
       "      <td>NaN</td>\n",
       "      <td>...</td>\n",
       "      <td>NaN</td>\n",
       "      <td>NaN</td>\n",
       "      <td>NaN</td>\n",
       "      <td>NaN</td>\n",
       "      <td>NaN</td>\n",
       "      <td>NaN</td>\n",
       "      <td>NaN</td>\n",
       "      <td>1309</td>\n",
       "      <td>6611</td>\n",
       "      <td>NaN</td>\n",
       "    </tr>\n",
       "    <tr>\n",
       "      <th>mean</th>\n",
       "      <td>NaN</td>\n",
       "      <td>NaN</td>\n",
       "      <td>NaN</td>\n",
       "      <td>29236.048120</td>\n",
       "      <td>39.447427</td>\n",
       "      <td>1.375554</td>\n",
       "      <td>80.818041</td>\n",
       "      <td>92.029215</td>\n",
       "      <td>1.570389</td>\n",
       "      <td>108.472096</td>\n",
       "      <td>...</td>\n",
       "      <td>35.312097</td>\n",
       "      <td>19.926421</td>\n",
       "      <td>172.621397</td>\n",
       "      <td>50.731423</td>\n",
       "      <td>6.138585</td>\n",
       "      <td>223.043151</td>\n",
       "      <td>8.000112</td>\n",
       "      <td>NaN</td>\n",
       "      <td>NaN</td>\n",
       "      <td>730.416661</td>\n",
       "    </tr>\n",
       "    <tr>\n",
       "      <th>std</th>\n",
       "      <td>NaN</td>\n",
       "      <td>NaN</td>\n",
       "      <td>NaN</td>\n",
       "      <td>13001.808801</td>\n",
       "      <td>10.707244</td>\n",
       "      <td>0.165319</td>\n",
       "      <td>23.533182</td>\n",
       "      <td>16.583341</td>\n",
       "      <td>1.420047</td>\n",
       "      <td>26.003618</td>\n",
       "      <td>...</td>\n",
       "      <td>10.498813</td>\n",
       "      <td>6.851374</td>\n",
       "      <td>86.649955</td>\n",
       "      <td>22.642310</td>\n",
       "      <td>0.771141</td>\n",
       "      <td>61.854516</td>\n",
       "      <td>1.804707</td>\n",
       "      <td>NaN</td>\n",
       "      <td>NaN</td>\n",
       "      <td>31.883511</td>\n",
       "    </tr>\n",
       "    <tr>\n",
       "      <th>min</th>\n",
       "      <td>NaN</td>\n",
       "      <td>NaN</td>\n",
       "      <td>NaN</td>\n",
       "      <td>4233.000000</td>\n",
       "      <td>20.000000</td>\n",
       "      <td>1.000039</td>\n",
       "      <td>5.160279</td>\n",
       "      <td>18.739771</td>\n",
       "      <td>0.000000</td>\n",
       "      <td>58.466000</td>\n",
       "      <td>...</td>\n",
       "      <td>16.900000</td>\n",
       "      <td>8.700000</td>\n",
       "      <td>9.600000</td>\n",
       "      <td>0.000000</td>\n",
       "      <td>3.700000</td>\n",
       "      <td>15.100000</td>\n",
       "      <td>1.000000</td>\n",
       "      <td>NaN</td>\n",
       "      <td>NaN</td>\n",
       "      <td>681.600000</td>\n",
       "    </tr>\n",
       "    <tr>\n",
       "      <th>25%</th>\n",
       "      <td>NaN</td>\n",
       "      <td>NaN</td>\n",
       "      <td>NaN</td>\n",
       "      <td>19413.000000</td>\n",
       "      <td>31.775825</td>\n",
       "      <td>1.242459</td>\n",
       "      <td>64.292905</td>\n",
       "      <td>97.354990</td>\n",
       "      <td>0.000000</td>\n",
       "      <td>88.826000</td>\n",
       "      <td>...</td>\n",
       "      <td>27.700000</td>\n",
       "      <td>16.100000</td>\n",
       "      <td>90.900000</td>\n",
       "      <td>34.300000</td>\n",
       "      <td>5.700000</td>\n",
       "      <td>182.000000</td>\n",
       "      <td>7.000000</td>\n",
       "      <td>NaN</td>\n",
       "      <td>NaN</td>\n",
       "      <td>699.383333</td>\n",
       "    </tr>\n",
       "    <tr>\n",
       "      <th>50%</th>\n",
       "      <td>NaN</td>\n",
       "      <td>NaN</td>\n",
       "      <td>NaN</td>\n",
       "      <td>27600.000000</td>\n",
       "      <td>39.199368</td>\n",
       "      <td>1.500000</td>\n",
       "      <td>92.389018</td>\n",
       "      <td>100.000000</td>\n",
       "      <td>1.000000</td>\n",
       "      <td>105.200000</td>\n",
       "      <td>...</td>\n",
       "      <td>33.100000</td>\n",
       "      <td>18.500000</td>\n",
       "      <td>154.200000</td>\n",
       "      <td>53.400000</td>\n",
       "      <td>6.200000</td>\n",
       "      <td>232.200000</td>\n",
       "      <td>8.000000</td>\n",
       "      <td>NaN</td>\n",
       "      <td>NaN</td>\n",
       "      <td>732.216667</td>\n",
       "    </tr>\n",
       "    <tr>\n",
       "      <th>75%</th>\n",
       "      <td>NaN</td>\n",
       "      <td>NaN</td>\n",
       "      <td>NaN</td>\n",
       "      <td>38058.500000</td>\n",
       "      <td>46.644517</td>\n",
       "      <td>1.500000</td>\n",
       "      <td>100.000000</td>\n",
       "      <td>100.000000</td>\n",
       "      <td>2.000000</td>\n",
       "      <td>126.117000</td>\n",
       "      <td>...</td>\n",
       "      <td>40.000000</td>\n",
       "      <td>22.400000</td>\n",
       "      <td>255.200000</td>\n",
       "      <td>67.400000</td>\n",
       "      <td>6.600000</td>\n",
       "      <td>273.100000</td>\n",
       "      <td>9.000000</td>\n",
       "      <td>NaN</td>\n",
       "      <td>NaN</td>\n",
       "      <td>762.116667</td>\n",
       "    </tr>\n",
       "    <tr>\n",
       "      <th>max</th>\n",
       "      <td>NaN</td>\n",
       "      <td>NaN</td>\n",
       "      <td>NaN</td>\n",
       "      <td>72039.000000</td>\n",
       "      <td>89.790843</td>\n",
       "      <td>1.500000</td>\n",
       "      <td>100.000000</td>\n",
       "      <td>100.000000</td>\n",
       "      <td>10.000000</td>\n",
       "      <td>194.078000</td>\n",
       "      <td>...</td>\n",
       "      <td>83.500000</td>\n",
       "      <td>149.300000</td>\n",
       "      <td>355.800000</td>\n",
       "      <td>97.800000</td>\n",
       "      <td>10.000000</td>\n",
       "      <td>386.800000</td>\n",
       "      <td>10.000000</td>\n",
       "      <td>NaN</td>\n",
       "      <td>NaN</td>\n",
       "      <td>773.383333</td>\n",
       "    </tr>\n",
       "  </tbody>\n",
       "</table>\n",
       "<p>11 rows × 34 columns</p>\n",
       "</div>"
      ],
      "text/plain": [
       "              Date    Area Name Road/Intersection Name  Traffic Volume  \\\n",
       "count         8936         8936                   8936     8936.000000   \n",
       "unique         952            8                     16             NaN   \n",
       "top     2023-01-24  Indiranagar          100 Feet Road             NaN   \n",
       "freq            15         1720                    860             NaN   \n",
       "mean           NaN          NaN                    NaN    29236.048120   \n",
       "std            NaN          NaN                    NaN    13001.808801   \n",
       "min            NaN          NaN                    NaN     4233.000000   \n",
       "25%            NaN          NaN                    NaN    19413.000000   \n",
       "50%            NaN          NaN                    NaN    27600.000000   \n",
       "75%            NaN          NaN                    NaN    38058.500000   \n",
       "max            NaN          NaN                    NaN    72039.000000   \n",
       "\n",
       "        Average Speed  Travel Time Index  Congestion Level  \\\n",
       "count     8936.000000        8936.000000       8936.000000   \n",
       "unique            NaN                NaN               NaN   \n",
       "top               NaN                NaN               NaN   \n",
       "freq              NaN                NaN               NaN   \n",
       "mean        39.447427           1.375554         80.818041   \n",
       "std         10.707244           0.165319         23.533182   \n",
       "min         20.000000           1.000039          5.160279   \n",
       "25%         31.775825           1.242459         64.292905   \n",
       "50%         39.199368           1.500000         92.389018   \n",
       "75%         46.644517           1.500000        100.000000   \n",
       "max         89.790843           1.500000        100.000000   \n",
       "\n",
       "        Road Capacity Utilization  Incident Reports  Environmental Impact  \\\n",
       "count                 8936.000000       8936.000000           8936.000000   \n",
       "unique                        NaN               NaN                   NaN   \n",
       "top                           NaN               NaN                   NaN   \n",
       "freq                          NaN               NaN                   NaN   \n",
       "mean                    92.029215          1.570389            108.472096   \n",
       "std                     16.583341          1.420047             26.003618   \n",
       "min                     18.739771          0.000000             58.466000   \n",
       "25%                     97.354990          0.000000             88.826000   \n",
       "50%                    100.000000          1.000000            105.200000   \n",
       "75%                    100.000000          2.000000            126.117000   \n",
       "max                    100.000000         10.000000            194.078000   \n",
       "\n",
       "        ...     windgust    windspeed      winddir   cloudcover   visibility  \\\n",
       "count   ...  8936.000000  8936.000000  8936.000000  8936.000000  8936.000000   \n",
       "unique  ...          NaN          NaN          NaN          NaN          NaN   \n",
       "top     ...          NaN          NaN          NaN          NaN          NaN   \n",
       "freq    ...          NaN          NaN          NaN          NaN          NaN   \n",
       "mean    ...    35.312097    19.926421   172.621397    50.731423     6.138585   \n",
       "std     ...    10.498813     6.851374    86.649955    22.642310     0.771141   \n",
       "min     ...    16.900000     8.700000     9.600000     0.000000     3.700000   \n",
       "25%     ...    27.700000    16.100000    90.900000    34.300000     5.700000   \n",
       "50%     ...    33.100000    18.500000   154.200000    53.400000     6.200000   \n",
       "75%     ...    40.000000    22.400000   255.200000    67.400000     6.600000   \n",
       "max     ...    83.500000   149.300000   355.800000    97.800000    10.000000   \n",
       "\n",
       "       solarradiation      uvindex  day_of_week  is_holiday  \\\n",
       "count     8936.000000  8936.000000         8936        8936   \n",
       "unique            NaN          NaN            7           2   \n",
       "top               NaN          NaN      Tuesday       False   \n",
       "freq              NaN          NaN         1309        6611   \n",
       "mean       223.043151     8.000112          NaN         NaN   \n",
       "std         61.854516     1.804707          NaN         NaN   \n",
       "min         15.100000     1.000000          NaN         NaN   \n",
       "25%        182.000000     7.000000          NaN         NaN   \n",
       "50%        232.200000     8.000000          NaN         NaN   \n",
       "75%        273.100000     9.000000          NaN         NaN   \n",
       "max        386.800000    10.000000          NaN         NaN   \n",
       "\n",
       "        minutes_of_daylight  \n",
       "count           8936.000000  \n",
       "unique                  NaN  \n",
       "top                     NaN  \n",
       "freq                    NaN  \n",
       "mean             730.416661  \n",
       "std               31.883511  \n",
       "min              681.600000  \n",
       "25%              699.383333  \n",
       "50%              732.216667  \n",
       "75%              762.116667  \n",
       "max              773.383333  \n",
       "\n",
       "[11 rows x 34 columns]"
      ]
     },
     "execution_count": 7,
     "metadata": {},
     "output_type": "execute_result"
    }
   ],
   "source": [
    "df.describe(include = 'all')"
   ]
  },
  {
   "cell_type": "markdown",
   "id": "a1f6ea2b",
   "metadata": {
    "papermill": {
     "duration": 0.008746,
     "end_time": "2024-08-22T08:51:43.570309",
     "exception": false,
     "start_time": "2024-08-22T08:51:43.561563",
     "status": "completed"
    },
    "tags": []
   },
   "source": [
    "# EDA of the Dataset"
   ]
  },
  {
   "cell_type": "markdown",
   "id": "5ada941e",
   "metadata": {
    "papermill": {
     "duration": 0.008994,
     "end_time": "2024-08-22T08:51:43.588182",
     "exception": false,
     "start_time": "2024-08-22T08:51:43.579188",
     "status": "completed"
    },
    "tags": []
   },
   "source": [
    "# 1. Heat Map"
   ]
  },
  {
   "cell_type": "code",
   "execution_count": 6,
   "id": "09dca0fa",
   "metadata": {
    "papermill": {
     "duration": 1.698716,
     "end_time": "2024-08-22T08:51:45.295789",
     "exception": false,
     "start_time": "2024-08-22T08:51:43.597073",
     "status": "completed"
    },
    "tags": []
   },
   "outputs": [
    {
     "data": {
      "application/vnd.plotly.v1+json": {
       "config": {
        "plotlyServerURL": "https://plot.ly"
       },
       "data": [
        {
         "coloraxis": "coloraxis",
         "hovertemplate": "Road/Intersection Name: %{x}<br>Area Name: %{y}<br>Traffic Volume: %{z}<extra></extra>",
         "name": "0",
         "type": "heatmap",
         "x": [
          "100 Feet Road",
          "Anil Kumble Circle",
          "Ballari Road",
          "CMH Road",
          "Hebbal Flyover",
          "Hosur Road",
          "ITPL Main Road",
          "Jayanagar 4th Block",
          "Marathahalli Bridge",
          "Sarjapur Road",
          "Silk Board Junction",
          "Sony World Junction",
          "South End Circle",
          "Trinity Circle",
          "Tumkur Road",
          "Yeshwanthpur Circle"
         ],
         "xaxis": "x",
         "y": [
          "Electronic City",
          "Hebbal",
          "Indiranagar",
          "Jayanagar",
          "Koramangala",
          "M.G. Road",
          "Whitefield",
          "Yeshwanthpur"
         ],
         "yaxis": "y",
         "z": {
          "bdata": "AAAAAAAA+H8AAAAAAAD4fwAAAAAAAPh/AAAAAAAA+H8AAAAAAAD4fwAAAMDbflFBAAAAAAAA+H8AAAAAAAD4fwAAAAAAAPh/AAAAAAAA+H8AAABAAe1QQQAAAAAAAPh/AAAAAAAA+H8AAAAAAAD4fwAAAAAAAPh/AAAAAAAA+H8AAAAAAAD4fwAAAAAAAPh/AAAAIFbaZ0EAAAAAAAD4fwAAAECPOWhBAAAAAAAA+H8AAAAAAAD4fwAAAAAAAPh/AAAAAAAA+H8AAAAAAAD4fwAAAAAAAPh/AAAAAAAA+H8AAAAAAAD4fwAAAAAAAPh/AAAAAAAA+H8AAAAAAAD4fwAAANCwNXpBAAAAAAAA+H8AAAAAAAD4fwAAAPA6v3pBAAAAAAAA+H8AAAAAAAD4fwAAAAAAAPh/AAAAAAAA+H8AAAAAAAD4fwAAAAAAAPh/AAAAAAAA+H8AAAAAAAD4fwAAAAAAAPh/AAAAAAAA+H8AAAAAAAD4fwAAAAAAAPh/AAAAAAAA+H8AAAAAAAD4fwAAAAAAAPh/AAAAAAAA+H8AAAAAAAD4fwAAAAAAAPh/AAAAAAAA+H8AAAAgaRlrQQAAAAAAAPh/AAAAAAAA+H8AAAAAAAD4fwAAAAAAAPh/AAAA4Bjxa0EAAAAAAAD4fwAAAAAAAPh/AAAAAAAA+H8AAAAAAAD4fwAAAAAAAPh/AAAAAAAA+H8AAAAAAAD4fwAAAAAAAPh/AAAAAAAA+H8AAAAAAAD4fwAAAAAAAPh/AAAAAAAA+H8AAADgKBB6QQAAAAAAAPh/AAAAwEwNe0EAAAAAAAD4fwAAAAAAAPh/AAAAAAAA+H8AAAAAAAD4fwAAAAAAAPh/AAAAoEKEeUEAAAAAAAD4fwAAAAAAAPh/AAAAAAAA+H8AAAAAAAD4fwAAAAAAAPh/AAAAAAAA+H8AAAAAAAD4fwAAAAAAAPh/AAAAAAAA+H8AAAAAAAD4fwAAAAAAAPh/AAAAoMIDeUEAAAAAAAD4fwAAAAAAAPh/AAAAAAAA+H8AAAAAAAD4fwAAAAAAAPh/AAAAAAAA+H8AAAAAAAD4fwAAAAAAAPh/AAAAoIzEYkEAAAAAAAD4fwAAAKBgfmNBAAAAAAAA+H8AAAAAAAD4fwAAAAAAAPh/AAAAAAAA+H8AAAAAAAD4fwAAAAAAAPh/AAAAAAAA+H8AAAAAAAD4fwAAAAAAAPh/AAAAAAAA+H8AAAAAAAD4fwAAAAAAAPh/AAAAAAAA+H8AAAAAAAD4fwAAAAAAAPh/AAAAAAAA+H8AAAAAAAD4fwAAAAAAAPh/AAAAAAAA+H8AAAAAAAD4fwAAAAAAAPh/AAAAwDuUWUEAAAAA121bQQ==",
          "dtype": "f8",
          "shape": "8, 16"
         }
        }
       ],
       "layout": {
        "coloraxis": {
         "colorbar": {
          "title": {
           "text": "Traffic Volume"
          }
         },
         "colorscale": [
          [
           0,
           "#0d0887"
          ],
          [
           0.1111111111111111,
           "#46039f"
          ],
          [
           0.2222222222222222,
           "#7201a8"
          ],
          [
           0.3333333333333333,
           "#9c179e"
          ],
          [
           0.4444444444444444,
           "#bd3786"
          ],
          [
           0.5555555555555556,
           "#d8576b"
          ],
          [
           0.6666666666666666,
           "#ed7953"
          ],
          [
           0.7777777777777778,
           "#fb9f3a"
          ],
          [
           0.8888888888888888,
           "#fdca26"
          ],
          [
           1,
           "#f0f921"
          ]
         ]
        },
        "template": {
         "data": {
          "bar": [
           {
            "error_x": {
             "color": "#2a3f5f"
            },
            "error_y": {
             "color": "#2a3f5f"
            },
            "marker": {
             "line": {
              "color": "#E5ECF6",
              "width": 0.5
             },
             "pattern": {
              "fillmode": "overlay",
              "size": 10,
              "solidity": 0.2
             }
            },
            "type": "bar"
           }
          ],
          "barpolar": [
           {
            "marker": {
             "line": {
              "color": "#E5ECF6",
              "width": 0.5
             },
             "pattern": {
              "fillmode": "overlay",
              "size": 10,
              "solidity": 0.2
             }
            },
            "type": "barpolar"
           }
          ],
          "carpet": [
           {
            "aaxis": {
             "endlinecolor": "#2a3f5f",
             "gridcolor": "white",
             "linecolor": "white",
             "minorgridcolor": "white",
             "startlinecolor": "#2a3f5f"
            },
            "baxis": {
             "endlinecolor": "#2a3f5f",
             "gridcolor": "white",
             "linecolor": "white",
             "minorgridcolor": "white",
             "startlinecolor": "#2a3f5f"
            },
            "type": "carpet"
           }
          ],
          "choropleth": [
           {
            "colorbar": {
             "outlinewidth": 0,
             "ticks": ""
            },
            "type": "choropleth"
           }
          ],
          "contour": [
           {
            "colorbar": {
             "outlinewidth": 0,
             "ticks": ""
            },
            "colorscale": [
             [
              0,
              "#0d0887"
             ],
             [
              0.1111111111111111,
              "#46039f"
             ],
             [
              0.2222222222222222,
              "#7201a8"
             ],
             [
              0.3333333333333333,
              "#9c179e"
             ],
             [
              0.4444444444444444,
              "#bd3786"
             ],
             [
              0.5555555555555556,
              "#d8576b"
             ],
             [
              0.6666666666666666,
              "#ed7953"
             ],
             [
              0.7777777777777778,
              "#fb9f3a"
             ],
             [
              0.8888888888888888,
              "#fdca26"
             ],
             [
              1,
              "#f0f921"
             ]
            ],
            "type": "contour"
           }
          ],
          "contourcarpet": [
           {
            "colorbar": {
             "outlinewidth": 0,
             "ticks": ""
            },
            "type": "contourcarpet"
           }
          ],
          "heatmap": [
           {
            "colorbar": {
             "outlinewidth": 0,
             "ticks": ""
            },
            "colorscale": [
             [
              0,
              "#0d0887"
             ],
             [
              0.1111111111111111,
              "#46039f"
             ],
             [
              0.2222222222222222,
              "#7201a8"
             ],
             [
              0.3333333333333333,
              "#9c179e"
             ],
             [
              0.4444444444444444,
              "#bd3786"
             ],
             [
              0.5555555555555556,
              "#d8576b"
             ],
             [
              0.6666666666666666,
              "#ed7953"
             ],
             [
              0.7777777777777778,
              "#fb9f3a"
             ],
             [
              0.8888888888888888,
              "#fdca26"
             ],
             [
              1,
              "#f0f921"
             ]
            ],
            "type": "heatmap"
           }
          ],
          "histogram": [
           {
            "marker": {
             "pattern": {
              "fillmode": "overlay",
              "size": 10,
              "solidity": 0.2
             }
            },
            "type": "histogram"
           }
          ],
          "histogram2d": [
           {
            "colorbar": {
             "outlinewidth": 0,
             "ticks": ""
            },
            "colorscale": [
             [
              0,
              "#0d0887"
             ],
             [
              0.1111111111111111,
              "#46039f"
             ],
             [
              0.2222222222222222,
              "#7201a8"
             ],
             [
              0.3333333333333333,
              "#9c179e"
             ],
             [
              0.4444444444444444,
              "#bd3786"
             ],
             [
              0.5555555555555556,
              "#d8576b"
             ],
             [
              0.6666666666666666,
              "#ed7953"
             ],
             [
              0.7777777777777778,
              "#fb9f3a"
             ],
             [
              0.8888888888888888,
              "#fdca26"
             ],
             [
              1,
              "#f0f921"
             ]
            ],
            "type": "histogram2d"
           }
          ],
          "histogram2dcontour": [
           {
            "colorbar": {
             "outlinewidth": 0,
             "ticks": ""
            },
            "colorscale": [
             [
              0,
              "#0d0887"
             ],
             [
              0.1111111111111111,
              "#46039f"
             ],
             [
              0.2222222222222222,
              "#7201a8"
             ],
             [
              0.3333333333333333,
              "#9c179e"
             ],
             [
              0.4444444444444444,
              "#bd3786"
             ],
             [
              0.5555555555555556,
              "#d8576b"
             ],
             [
              0.6666666666666666,
              "#ed7953"
             ],
             [
              0.7777777777777778,
              "#fb9f3a"
             ],
             [
              0.8888888888888888,
              "#fdca26"
             ],
             [
              1,
              "#f0f921"
             ]
            ],
            "type": "histogram2dcontour"
           }
          ],
          "mesh3d": [
           {
            "colorbar": {
             "outlinewidth": 0,
             "ticks": ""
            },
            "type": "mesh3d"
           }
          ],
          "parcoords": [
           {
            "line": {
             "colorbar": {
              "outlinewidth": 0,
              "ticks": ""
             }
            },
            "type": "parcoords"
           }
          ],
          "pie": [
           {
            "automargin": true,
            "type": "pie"
           }
          ],
          "scatter": [
           {
            "fillpattern": {
             "fillmode": "overlay",
             "size": 10,
             "solidity": 0.2
            },
            "type": "scatter"
           }
          ],
          "scatter3d": [
           {
            "line": {
             "colorbar": {
              "outlinewidth": 0,
              "ticks": ""
             }
            },
            "marker": {
             "colorbar": {
              "outlinewidth": 0,
              "ticks": ""
             }
            },
            "type": "scatter3d"
           }
          ],
          "scattercarpet": [
           {
            "marker": {
             "colorbar": {
              "outlinewidth": 0,
              "ticks": ""
             }
            },
            "type": "scattercarpet"
           }
          ],
          "scattergeo": [
           {
            "marker": {
             "colorbar": {
              "outlinewidth": 0,
              "ticks": ""
             }
            },
            "type": "scattergeo"
           }
          ],
          "scattergl": [
           {
            "marker": {
             "colorbar": {
              "outlinewidth": 0,
              "ticks": ""
             }
            },
            "type": "scattergl"
           }
          ],
          "scattermap": [
           {
            "marker": {
             "colorbar": {
              "outlinewidth": 0,
              "ticks": ""
             }
            },
            "type": "scattermap"
           }
          ],
          "scattermapbox": [
           {
            "marker": {
             "colorbar": {
              "outlinewidth": 0,
              "ticks": ""
             }
            },
            "type": "scattermapbox"
           }
          ],
          "scatterpolar": [
           {
            "marker": {
             "colorbar": {
              "outlinewidth": 0,
              "ticks": ""
             }
            },
            "type": "scatterpolar"
           }
          ],
          "scatterpolargl": [
           {
            "marker": {
             "colorbar": {
              "outlinewidth": 0,
              "ticks": ""
             }
            },
            "type": "scatterpolargl"
           }
          ],
          "scatterternary": [
           {
            "marker": {
             "colorbar": {
              "outlinewidth": 0,
              "ticks": ""
             }
            },
            "type": "scatterternary"
           }
          ],
          "surface": [
           {
            "colorbar": {
             "outlinewidth": 0,
             "ticks": ""
            },
            "colorscale": [
             [
              0,
              "#0d0887"
             ],
             [
              0.1111111111111111,
              "#46039f"
             ],
             [
              0.2222222222222222,
              "#7201a8"
             ],
             [
              0.3333333333333333,
              "#9c179e"
             ],
             [
              0.4444444444444444,
              "#bd3786"
             ],
             [
              0.5555555555555556,
              "#d8576b"
             ],
             [
              0.6666666666666666,
              "#ed7953"
             ],
             [
              0.7777777777777778,
              "#fb9f3a"
             ],
             [
              0.8888888888888888,
              "#fdca26"
             ],
             [
              1,
              "#f0f921"
             ]
            ],
            "type": "surface"
           }
          ],
          "table": [
           {
            "cells": {
             "fill": {
              "color": "#EBF0F8"
             },
             "line": {
              "color": "white"
             }
            },
            "header": {
             "fill": {
              "color": "#C8D4E3"
             },
             "line": {
              "color": "white"
             }
            },
            "type": "table"
           }
          ]
         },
         "layout": {
          "annotationdefaults": {
           "arrowcolor": "#2a3f5f",
           "arrowhead": 0,
           "arrowwidth": 1
          },
          "autotypenumbers": "strict",
          "coloraxis": {
           "colorbar": {
            "outlinewidth": 0,
            "ticks": ""
           }
          },
          "colorscale": {
           "diverging": [
            [
             0,
             "#8e0152"
            ],
            [
             0.1,
             "#c51b7d"
            ],
            [
             0.2,
             "#de77ae"
            ],
            [
             0.3,
             "#f1b6da"
            ],
            [
             0.4,
             "#fde0ef"
            ],
            [
             0.5,
             "#f7f7f7"
            ],
            [
             0.6,
             "#e6f5d0"
            ],
            [
             0.7,
             "#b8e186"
            ],
            [
             0.8,
             "#7fbc41"
            ],
            [
             0.9,
             "#4d9221"
            ],
            [
             1,
             "#276419"
            ]
           ],
           "sequential": [
            [
             0,
             "#0d0887"
            ],
            [
             0.1111111111111111,
             "#46039f"
            ],
            [
             0.2222222222222222,
             "#7201a8"
            ],
            [
             0.3333333333333333,
             "#9c179e"
            ],
            [
             0.4444444444444444,
             "#bd3786"
            ],
            [
             0.5555555555555556,
             "#d8576b"
            ],
            [
             0.6666666666666666,
             "#ed7953"
            ],
            [
             0.7777777777777778,
             "#fb9f3a"
            ],
            [
             0.8888888888888888,
             "#fdca26"
            ],
            [
             1,
             "#f0f921"
            ]
           ],
           "sequentialminus": [
            [
             0,
             "#0d0887"
            ],
            [
             0.1111111111111111,
             "#46039f"
            ],
            [
             0.2222222222222222,
             "#7201a8"
            ],
            [
             0.3333333333333333,
             "#9c179e"
            ],
            [
             0.4444444444444444,
             "#bd3786"
            ],
            [
             0.5555555555555556,
             "#d8576b"
            ],
            [
             0.6666666666666666,
             "#ed7953"
            ],
            [
             0.7777777777777778,
             "#fb9f3a"
            ],
            [
             0.8888888888888888,
             "#fdca26"
            ],
            [
             1,
             "#f0f921"
            ]
           ]
          },
          "colorway": [
           "#636efa",
           "#EF553B",
           "#00cc96",
           "#ab63fa",
           "#FFA15A",
           "#19d3f3",
           "#FF6692",
           "#B6E880",
           "#FF97FF",
           "#FECB52"
          ],
          "font": {
           "color": "#2a3f5f"
          },
          "geo": {
           "bgcolor": "white",
           "lakecolor": "white",
           "landcolor": "#E5ECF6",
           "showlakes": true,
           "showland": true,
           "subunitcolor": "white"
          },
          "hoverlabel": {
           "align": "left"
          },
          "hovermode": "closest",
          "mapbox": {
           "style": "light"
          },
          "paper_bgcolor": "white",
          "plot_bgcolor": "#E5ECF6",
          "polar": {
           "angularaxis": {
            "gridcolor": "white",
            "linecolor": "white",
            "ticks": ""
           },
           "bgcolor": "#E5ECF6",
           "radialaxis": {
            "gridcolor": "white",
            "linecolor": "white",
            "ticks": ""
           }
          },
          "scene": {
           "xaxis": {
            "backgroundcolor": "#E5ECF6",
            "gridcolor": "white",
            "gridwidth": 2,
            "linecolor": "white",
            "showbackground": true,
            "ticks": "",
            "zerolinecolor": "white"
           },
           "yaxis": {
            "backgroundcolor": "#E5ECF6",
            "gridcolor": "white",
            "gridwidth": 2,
            "linecolor": "white",
            "showbackground": true,
            "ticks": "",
            "zerolinecolor": "white"
           },
           "zaxis": {
            "backgroundcolor": "#E5ECF6",
            "gridcolor": "white",
            "gridwidth": 2,
            "linecolor": "white",
            "showbackground": true,
            "ticks": "",
            "zerolinecolor": "white"
           }
          },
          "shapedefaults": {
           "line": {
            "color": "#2a3f5f"
           }
          },
          "ternary": {
           "aaxis": {
            "gridcolor": "white",
            "linecolor": "white",
            "ticks": ""
           },
           "baxis": {
            "gridcolor": "white",
            "linecolor": "white",
            "ticks": ""
           },
           "bgcolor": "#E5ECF6",
           "caxis": {
            "gridcolor": "white",
            "linecolor": "white",
            "ticks": ""
           }
          },
          "title": {
           "x": 0.05
          },
          "xaxis": {
           "automargin": true,
           "gridcolor": "white",
           "linecolor": "white",
           "ticks": "",
           "title": {
            "standoff": 15
           },
           "zerolinecolor": "white",
           "zerolinewidth": 2
          },
          "yaxis": {
           "automargin": true,
           "gridcolor": "white",
           "linecolor": "white",
           "ticks": "",
           "title": {
            "standoff": 15
           },
           "zerolinecolor": "white",
           "zerolinewidth": 2
          }
         }
        },
        "title": {
         "text": "Heatmap of Traffic Volume Across Areas and Roads"
        },
        "xaxis": {
         "anchor": "y",
         "constrain": "domain",
         "domain": [
          0,
          1
         ],
         "scaleanchor": "y",
         "title": {
          "text": "Road/Intersection Name"
         }
        },
        "yaxis": {
         "anchor": "x",
         "autorange": "reversed",
         "constrain": "domain",
         "domain": [
          0,
          1
         ],
         "title": {
          "text": "Area Name"
         }
        }
       }
      },
      "image/png": "[encoded data removed]"
     },
     "metadata": {},
     "output_type": "display_data"
    }
   ],
   "source": [
    "heatmap_data = df.pivot_table(values='Traffic Volume', index='Area Name', columns='Road/Intersection Name', aggfunc='sum')\n",
    "fig = px.imshow(heatmap_data, labels=dict(x=\"Road/Intersection Name\", y=\"Area Name\", color=\"Traffic Volume\"),\n",
    "                title=\"Heatmap of Traffic Volume Across Areas and Roads\")\n",
    "fig"
   ]
  },
  {
   "cell_type": "markdown",
   "id": "085b3f14",
   "metadata": {
    "papermill": {
     "duration": 0.009119,
     "end_time": "2024-08-22T08:51:45.314485",
     "exception": false,
     "start_time": "2024-08-22T08:51:45.305366",
     "status": "completed"
    },
    "tags": []
   },
   "source": [
    "This heatmap shows that areas such as Koramangala and Indiranagar record higher traffic volumes across multiple roads, marking them as key hubs."
   ]
  },
  {
   "cell_type": "markdown",
   "id": "f66cd256",
   "metadata": {
    "papermill": {
     "duration": 0.008983,
     "end_time": "2024-08-22T08:51:45.332598",
     "exception": false,
     "start_time": "2024-08-22T08:51:45.323615",
     "status": "completed"
    },
    "tags": []
   },
   "source": [
    "# 2. SunBurst Chart\n"
   ]
  },
  {
   "cell_type": "code",
   "execution_count": null,
   "id": "9a435c8c",
   "metadata": {
    "papermill": {
     "duration": 0.261353,
     "end_time": "2024-08-22T08:51:45.603155",
     "exception": false,
     "start_time": "2024-08-22T08:51:45.341802",
     "status": "completed"
    },
    "tags": []
   },
   "outputs": [],
   "source": [
    "fig = px.sunburst(df, path=['Area Name', 'Road/Intersection Name'], values='Traffic Volume',\n",
    "                  title=\"Sunburst Chart of Traffic Volume by Area, Road, and Intersection\")\n",
    "fig.show()"
   ]
  },
  {
   "cell_type": "markdown",
   "id": "8910d6df",
   "metadata": {
    "papermill": {
     "duration": 0.009302,
     "end_time": "2024-08-22T08:51:45.622157",
     "exception": false,
     "start_time": "2024-08-22T08:51:45.612855",
     "status": "completed"
    },
    "tags": []
   },
   "source": [
    "The sunburst chart highlights that within areas such as Koramangala and Indiranagar, roads like Sony World Junction and 100 Feet Road dominate traffic volumes and are major pressure points."
   ]
  },
  {
   "cell_type": "markdown",
   "id": "bbd1102e",
   "metadata": {
    "papermill": {
     "duration": 0.009255,
     "end_time": "2024-08-22T08:51:45.640842",
     "exception": false,
     "start_time": "2024-08-22T08:51:45.631587",
     "status": "completed"
    },
    "tags": []
   },
   "source": [
    "# 3. Scatter Plot"
   ]
  },
  {
   "cell_type": "code",
   "execution_count": null,
   "id": "acb21ba2",
   "metadata": {
    "papermill": {
     "duration": 0.188852,
     "end_time": "2024-08-22T08:51:45.839109",
     "exception": false,
     "start_time": "2024-08-22T08:51:45.650257",
     "status": "completed"
    },
    "tags": []
   },
   "outputs": [],
   "source": [
    "fig = px.scatter(df, x='Traffic Volume', y='Average Speed', color='Congestion Level', \n",
    "                 size='Traffic Volume', hover_data=['Area Name', 'Road/Intersection Name'],\n",
    "                 title=\"Scatter Plot of Traffic Volume vs. Average Speed with Congestion Level\")\n",
    "fig.show()\n"
   ]
  },
  {
   "cell_type": "markdown",
   "id": "e4133758",
   "metadata": {
    "papermill": {
     "duration": 0.016046,
     "end_time": "2024-08-22T08:51:45.872874",
     "exception": false,
     "start_time": "2024-08-22T08:51:45.856828",
     "status": "completed"
    },
    "tags": []
   },
   "source": [
    "This plot shows an inverse relationship between traffic volume and average speed: high-volume areas such as Indiranagar usually record lower speeds, signalling heavier congestion."
   ]
  },
  {
   "cell_type": "markdown",
   "id": "559f0b01",
   "metadata": {
    "papermill": {
     "duration": 0.015975,
     "end_time": "2024-08-22T08:51:45.905140",
     "exception": false,
     "start_time": "2024-08-22T08:51:45.889165",
     "status": "completed"
    },
    "tags": []
   },
   "source": [
    "# 4. BoxPlot"
   ]
  },
  {
   "cell_type": "code",
   "execution_count": null,
   "id": "46751b31",
   "metadata": {
    "papermill": {
     "duration": 0.125882,
     "end_time": "2024-08-22T08:51:46.047120",
     "exception": false,
     "start_time": "2024-08-22T08:51:45.921238",
     "status": "completed"
    },
    "tags": []
   },
   "outputs": [],
   "source": [
    "fig = px.box(df, x='Area Name', y='Travel Time Index', \n",
    "             title=\"Box Plot of Travel Time Index by Area\")\n",
    "fig.show()"
   ]
  },
  {
   "cell_type": "markdown",
   "id": "da80e67c",
   "metadata": {
    "papermill": {
     "duration": 0.018384,
     "end_time": "2024-08-22T08:51:46.084210",
     "exception": false,
     "start_time": "2024-08-22T08:51:46.065826",
     "status": "completed"
    },
    "tags": []
   },
   "source": [
    "Koramangala shows a wider spread in the Travel Time Index, suggesting less predictable travel times and more variable congestion."
   ]
  },
  {
   "cell_type": "markdown",
   "id": "ed34512b",
   "metadata": {
    "papermill": {
     "duration": 0.017914,
     "end_time": "2024-08-22T08:51:46.121209",
     "exception": false,
     "start_time": "2024-08-22T08:51:46.103295",
     "status": "completed"
    },
    "tags": []
   },
   "source": [
    "# 5. PieChart"
   ]
  },
  {
   "cell_type": "code",
   "execution_count": null,
   "id": "0e0bd97d",
   "metadata": {
    "papermill": {
     "duration": 0.089828,
     "end_time": "2024-08-22T08:51:46.230016",
     "exception": false,
     "start_time": "2024-08-22T08:51:46.140188",
     "status": "completed"
    },
    "tags": []
   },
   "outputs": [],
   "source": [
    "incident_data = df.groupby('Area Name')['Incident Reports'].sum().reset_index()\n",
    "fig = px.pie(incident_data, values='Incident Reports', names='Area Name',\n",
    "             title=\"Pie Chart of Incident Reports by Area\")\n",
    "fig.show()\n"
   ]
  },
  {
   "cell_type": "markdown",
   "id": "b195a592",
   "metadata": {
    "papermill": {
     "duration": 0.018601,
     "end_time": "2024-08-22T08:51:46.267283",
     "exception": false,
     "start_time": "2024-08-22T08:51:46.248682",
     "status": "completed"
    },
    "tags": []
   },
   "source": [
    "M.G. Road and Koramangala account for a large share of traffic incidents, signalling the need for added traffic management and safety measures in these areas."
   ]
  },
  {
   "cell_type": "markdown",
   "id": "253af9b8",
   "metadata": {
    "papermill": {
     "duration": 0.018528,
     "end_time": "2024-08-22T08:51:46.304759",
     "exception": false,
     "start_time": "2024-08-22T08:51:46.286231",
     "status": "completed"
    },
    "tags": []
   },
   "source": [
    "# 6. Histogram"
   ]
  },
  {
   "cell_type": "code",
   "execution_count": null,
   "id": "c222d0f7",
   "metadata": {
    "papermill": {
     "duration": 0.105039,
     "end_time": "2024-08-22T08:51:46.428587",
     "exception": false,
     "start_time": "2024-08-22T08:51:46.323548",
     "status": "completed"
    },
    "tags": []
   },
   "outputs": [],
   "source": [
    "fig = px.histogram(df, x='Road Capacity Utilization', nbins=20,\n",
    "                   title=\"Histogram of Road Capacity Utilization\")\n",
    "fig.show()\n"
   ]
  },
  {
   "cell_type": "markdown",
   "id": "46a45af1",
   "metadata": {
    "papermill": {
     "duration": 0.019447,
     "end_time": "2024-08-22T08:51:46.467821",
     "exception": false,
     "start_time": "2024-08-22T08:51:46.448374",
     "status": "completed"
    },
    "tags": []
   },
   "source": [
    "The histogram shows that many roads operate at or near full capacity, indicating a need for either added infrastructure or better traffic flow optimization to prevent overload."
   ]
  },
  {
   "cell_type": "markdown",
   "id": "b81998b4",
   "metadata": {
    "papermill": {
     "duration": 0.019332,
     "end_time": "2024-08-22T08:51:46.506776",
     "exception": false,
     "start_time": "2024-08-22T08:51:46.487444",
     "status": "completed"
    },
    "tags": []
   },
   "source": [
    "# 7. RadialBar Chart"
   ]
  },
  {
   "cell_type": "code",
   "execution_count": null,
   "id": "b8a480b0",
   "metadata": {
    "papermill": {
     "duration": 0.104748,
     "end_time": "2024-08-22T08:51:46.631005",
     "exception": false,
     "start_time": "2024-08-22T08:51:46.526257",
     "status": "completed"
    },
    "tags": []
   },
   "outputs": [],
   "source": [
    "congestion_data = df.groupby('Area Name')['Congestion Level'].mean().reset_index()\n",
    "fig = px.bar_polar(congestion_data, r='Congestion Level', theta='Area Name',\n",
    "                   title=\"Radial Bar Chart of Congestion Levels by Area\")\n",
    "fig.show()"
   ]
  },
  {
   "cell_type": "markdown",
   "id": "f382cc72",
   "metadata": {
    "papermill": {
     "duration": 0.019227,
     "end_time": "2024-08-22T08:51:46.669927",
     "exception": false,
     "start_time": "2024-08-22T08:51:46.650700",
     "status": "completed"
    },
    "tags": []
   },
   "source": [
    "Areas such as M.G. Road and Koramangala exhibit consistently high congestion levels, so the city may need targeted interventions to relieve pressure there."
   ]
  },
  {
   "cell_type": "markdown",
   "id": "1fdad8aa",
   "metadata": {
    "papermill": {
     "duration": 0.019124,
     "end_time": "2024-08-22T08:51:46.708542",
     "exception": false,
     "start_time": "2024-08-22T08:51:46.689418",
     "status": "completed"
    },
    "tags": []
   },
   "source": [
    "# 8. Density Plot"
   ]
  },
  {
   "cell_type": "code",
   "execution_count": null,
   "id": "240c569f",
   "metadata": {
    "papermill": {
     "duration": 0.1104,
     "end_time": "2024-08-22T08:51:46.838452",
     "exception": false,
     "start_time": "2024-08-22T08:51:46.728052",
     "status": "completed"
    },
    "tags": []
   },
   "outputs": [],
   "source": [
    "fig = px.density_contour(df, x='Average Speed', y='Traffic Volume',\n",
    "                         title=\"Density Plot of Average Speed and Traffic Volume\")\n",
    "fig.show()"
   ]
  },
  {
   "cell_type": "markdown",
   "id": "064e77ad",
   "metadata": {
    "papermill": {
     "duration": 0.02224,
     "end_time": "2024-08-22T08:51:46.883301",
     "exception": false,
     "start_time": "2024-08-22T08:51:46.861061",
     "status": "completed"
    },
    "tags": []
   },
   "source": [
    "The density plot shows traffic clustering around moderate speeds and high volumes, suggesting similar flow patterns across much of the city."
   ]
  },
  {
   "cell_type": "markdown",
   "id": "8a883677",
   "metadata": {
    "papermill": {
     "duration": 0.023479,
     "end_time": "2024-08-22T08:51:46.930272",
     "exception": false,
     "start_time": "2024-08-22T08:51:46.906793",
     "status": "completed"
    },
    "tags": []
   },
   "source": [
    "# 9. Stacked Bar Chart"
   ]
  },
  {
   "cell_type": "code",
   "execution_count": null,
   "id": "635d91e9",
   "metadata": {
    "papermill": {
     "duration": 0.15626,
     "end_time": "2024-08-22T08:51:47.109982",
     "exception": false,
     "start_time": "2024-08-22T08:51:46.953722",
     "status": "completed"
    },
    "tags": []
   },
   "outputs": [],
   "source": [
    "fig = px.histogram(df, x='Weather Conditions', y='Traffic Volume', color='Area Name', \n",
    "                   barmode='stack', title=\"Stacked Bar Chart of Traffic Volume by Weather Conditions\")\n",
    "fig.show()"
   ]
  },
  {
   "cell_type": "markdown",
   "id": "ac4abd0e",
   "metadata": {
    "papermill": {
     "duration": 0.02504,
     "end_time": "2024-08-22T08:51:47.161312",
     "exception": false,
     "start_time": "2024-08-22T08:51:47.136272",
     "status": "completed"
    },
    "tags": []
   },
   "source": [
    "Clear weather corresponds with higher traffic volumes across all areas, implying that adverse conditions tend to suppress road usage."
   ]
  },
  {
   "cell_type": "markdown",
   "id": "a8a5d148",
   "metadata": {
    "papermill": {
     "duration": 0.026317,
     "end_time": "2024-08-22T08:51:47.213931",
     "exception": false,
     "start_time": "2024-08-22T08:51:47.187614",
     "status": "completed"
    },
    "tags": []
   },
   "source": [
    "# K-Means Clustering."
   ]
  },
  {
   "cell_type": "code",
   "execution_count": null,
   "id": "be1082ca",
   "metadata": {
    "papermill": {
     "duration": 2.068357,
     "end_time": "2024-08-22T08:51:49.308855",
     "exception": false,
     "start_time": "2024-08-22T08:51:47.240498",
     "status": "completed"
    },
    "tags": []
   },
   "outputs": [],
   "source": [
    "import pandas as pd\n",
    "from sklearn.preprocessing import StandardScaler\n",
    "from sklearn.decomposition import PCA\n",
    "from sklearn.cluster import KMeans\n",
    "import matplotlib.pyplot as plt\n",
    "import seaborn as sns\n",
    "\n",
    "numerical_columns = [\n",
    "    'Traffic Volume', 'Average Speed', 'Travel Time Index', 'Congestion Level',\n",
    "    'Road Capacity Utilization', 'Incident Reports', 'Environmental Impact',\n",
    "    'Public Transport Usage', 'Traffic Signal Compliance', 'Parking Usage',\n",
    "    'Pedestrian and Cyclist Count'\n",
    "]\n",
    "numerical_data = df[numerical_columns]"
   ]
  },
  {
   "cell_type": "markdown",
   "id": "1cd001d9",
   "metadata": {
    "papermill": {
     "duration": 0.025491,
     "end_time": "2024-08-22T08:51:49.360157",
     "exception": false,
     "start_time": "2024-08-22T08:51:49.334666",
     "status": "completed"
    },
    "tags": []
   },
   "source": [
    "### Data Standardization- StandardScaler transforms the numerical features to a mean of 0 and a standard deviation of 1.### Dimensionality Reduction with PCA- PCA reduces the data to two components so that clustering is easier to visualise."
   ]
  },
  {
   "cell_type": "code",
   "execution_count": null,
   "id": "4926ab5a",
   "metadata": {
    "papermill": {
     "duration": 0.136589,
     "end_time": "2024-08-22T08:51:49.522302",
     "exception": false,
     "start_time": "2024-08-22T08:51:49.385713",
     "status": "completed"
    },
    "tags": []
   },
   "outputs": [],
   "source": [
    "# Standardize the Data\n",
    "scaler = StandardScaler()\n",
    "scaled_data = scaler.fit_transform(numerical_data)\n",
    "\n",
    "# Apply PCA\n",
    "pca = PCA(n_components=2)\n",
    "pca_data = pca.fit_transform(scaled_data)"
   ]
  },
  {
   "cell_type": "markdown",
   "id": "1a33fa68",
   "metadata": {
    "papermill": {
     "duration": 0.036046,
     "end_time": "2024-08-22T08:51:49.649947",
     "exception": false,
     "start_time": "2024-08-22T08:51:49.613901",
     "status": "completed"
    },
    "tags": []
   },
   "source": [
    "### Elbow Method for Selecting k- The elbow curve plots inertia against candidate k values and highlights where the improvements begin to level off."
   ]
  },
  {
   "cell_type": "code",
   "execution_count": null,
   "id": "7a852d07",
   "metadata": {
    "papermill": {
     "duration": 11.984501,
     "end_time": "2024-08-22T08:52:01.660996",
     "exception": false,
     "start_time": "2024-08-22T08:51:49.676495",
     "status": "completed"
    },
    "tags": []
   },
   "outputs": [],
   "source": [
    "inertia = []\n",
    "K = range(1, 11)\n",
    "for k in K:\n",
    "    kmeans = KMeans(n_clusters=k, random_state=42)\n",
    "    kmeans.fit(pca_data)\n",
    "    inertia.append(kmeans.inertia_)\n",
    "\n",
    "plt.figure(figsize=(10, 6))\n",
    "plt.plot(K, inertia, 'bo-', markersize=8)\n",
    "plt.xlabel('Number of Clusters (k)')\n",
    "plt.ylabel('Inertia')\n",
    "plt.title('Elbow Method for Optimal k')\n",
    "plt.show()\n"
   ]
  },
  {
   "cell_type": "markdown",
   "id": "e74d6f52",
   "metadata": {
    "papermill": {
     "duration": 0.024957,
     "end_time": "2024-08-22T08:52:01.712493",
     "exception": false,
     "start_time": "2024-08-22T08:52:01.687536",
     "status": "completed"
    },
    "tags": []
   },
   "source": [
    "### K-means Clustering- Run k-means on the PCA-reduced data with k = 2 and attach the labels back to the original dataset.- Visualise the clusters on the PCA plane and compare feature distributions with boxplots to understand their characteristics."
   ]
  },
  {
   "cell_type": "code",
   "execution_count": null,
   "id": "f0b637d8",
   "metadata": {
    "papermill": {
     "duration": 1.476615,
     "end_time": "2024-08-22T08:52:03.215405",
     "exception": false,
     "start_time": "2024-08-22T08:52:01.738790",
     "status": "completed"
    },
    "tags": []
   },
   "outputs": [],
   "source": [
    "\n",
    "optimal_k = 2\n",
    "\n",
    "kmeans = KMeans(n_clusters=optimal_k, random_state=42)\n",
    "kmeans.fit(pca_data)\n",
    "df['Cluster'] = kmeans.labels_\n",
    "\n",
    "# Visualize the Clusters\n",
    "plt.figure(figsize=(10, 7))\n",
    "plt.scatter(pca_data[:, 0], pca_data[:, 1], c=df['Cluster'], cmap='viridis', s=50)\n",
    "plt.title(f'K-means Clustering with {optimal_k} Clusters')\n",
    "plt.xlabel('PCA Component 1')\n",
    "plt.ylabel('PCA Component 2')\n",
    "plt.colorbar(label='Cluster')\n",
    "plt.show()\n",
    "\n",
    "# Inspect Cluster Centers in Original Feature Space\n",
    "cluster_centers = kmeans.cluster_centers_\n",
    "cluster_centers_df = pd.DataFrame(cluster_centers)\n",
    "print(cluster_centers_df)"
   ]
  },
  {
   "cell_type": "code",
   "execution_count": null,
   "id": "debfc902",
   "metadata": {
    "papermill": {
     "duration": 1.989243,
     "end_time": "2024-08-22T08:52:05.234491",
     "exception": false,
     "start_time": "2024-08-22T08:52:03.245248",
     "status": "completed"
    },
    "tags": []
   },
   "outputs": [],
   "source": [
    "plt.figure(figsize=(15, 10))\n",
    "\n",
    "for i, column in enumerate(numerical_columns, 1):\n",
    "    plt.subplot(4, 3, i)\n",
    "    sns.boxplot(x='Cluster', y=column, data=df)\n",
    "    plt.title(f'Boxplot of {column} by Cluster')\n",
    "    plt.xticks(rotation=45)\n",
    "\n",
    "# Adjust layout and show the plot\n",
    "plt.tight_layout()\n",
    "plt.show()"
   ]
  },
  {
   "cell_type": "markdown",
   "id": "5feddc36",
   "metadata": {
    "papermill": {
     "duration": 0.029556,
     "end_time": "2024-08-22T08:52:05.295443",
     "exception": false,
     "start_time": "2024-08-22T08:52:05.265887",
     "status": "completed"
    },
    "tags": []
   },
   "source": [
    "## Cluster 0"
   ]
  },
  {
   "cell_type": "markdown",
   "id": "d7f87b22",
   "metadata": {
    "papermill": {
     "duration": 0.076084,
     "end_time": "2024-08-22T08:52:05.402611",
     "exception": false,
     "start_time": "2024-08-22T08:52:05.326527",
     "status": "completed"
    },
    "tags": []
   },
   "source": [
    "Cluster 0 covers areas with lower traffic volumes and moderate speeds (median roughly 25,000 vehicles and 50 km/h, with some low-end outliers).- The travel time index stays near 1.5, signalling typical peak-hour congestion with occasional variability.- Congestion levels centre on 40–50%, though conditions range widely across roads."
   ]
  },
  {
   "cell_type": "markdown",
   "id": "bf95b5e1",
   "metadata": {
    "papermill": {
     "duration": 0.030845,
     "end_time": "2024-08-22T08:52:05.464454",
     "exception": false,
     "start_time": "2024-08-22T08:52:05.433609",
     "status": "completed"
    },
    "tags": []
   },
   "source": [
    "- Road capacity utilisation typically sits around 75–80%, although some corridors operate much higher or lower.- Incident reports are generally low (median close to two) but occasionally spike.- Environmental impact is modest with a median near 100 units, though a few locations register higher stress.- Public transport usage is balanced at roughly 50–60%.- Traffic signal compliance hovers around 80% across the cluster.- Parking usage sits near 80%, and pedestrian or cyclist counts are relatively high (median about 150)."
   ]
  },
  {
   "cell_type": "markdown",
   "id": "a86488bf",
   "metadata": {
    "papermill": {
     "duration": 0.030858,
     "end_time": "2024-08-22T08:52:05.526438",
     "exception": false,
     "start_time": "2024-08-22T08:52:05.495580",
     "status": "completed"
    },
    "tags": []
   },
   "source": [
    "## Cluster 1"
   ]
  },
  {
   "cell_type": "markdown",
   "id": "f5695913",
   "metadata": {
    "papermill": {
     "duration": 0.030842,
     "end_time": "2024-08-22T08:52:05.588707",
     "exception": false,
     "start_time": "2024-08-22T08:52:05.557865",
     "status": "completed"
    },
    "tags": []
   },
   "source": [
    "Cluster 1 captures the more congested urban corridors, averaging about 40,000 vehicles with median speeds near 30 km/h.- The travel time index still centres around 1.5 but shows many outliers, signalling severe congestion in some segments.- Congestion levels sit near 100%, indicating that several roads run at full load during peak periods.- Road capacity utilisation clusters around 100%, and incidents are more common (median about two with a wide spread)."
   ]
  },
  {
   "cell_type": "markdown",
   "id": "43f37532",
   "metadata": {
    "papermill": {
     "duration": 0.031534,
     "end_time": "2024-08-22T08:52:05.651466",
     "exception": false,
     "start_time": "2024-08-22T08:52:05.619932",
     "status": "completed"
    },
    "tags": []
   },
   "source": [
    "- Environmental impact is higher in this cluster with a median close to 150 units and some very stressed corridors.- Public transport usage is slightly higher than in Cluster 0, at roughly 60–70%.- Traffic signal compliance mirrors Cluster 0 near 80%.- Parking demand remains high at about 80%.- Pedestrian and cyclist counts dip slightly to a median near 100."
   ]
  },
  {
   "cell_type": "markdown",
   "id": "b9e503e6",
   "metadata": {
    "papermill": {
     "duration": 0.031735,
     "end_time": "2024-08-22T08:52:05.714810",
     "exception": false,
     "start_time": "2024-08-22T08:52:05.683075",
     "status": "completed"
    },
    "tags": []
   },
   "source": [
    "# Rule Based Inference."
   ]
  },
  {
   "cell_type": "markdown",
   "id": "b7d2ef88",
   "metadata": {
    "papermill": {
     "duration": 0.03101,
     "end_time": "2024-08-22T08:52:05.777211",
     "exception": false,
     "start_time": "2024-08-22T08:52:05.746201",
     "status": "completed"
    },
    "tags": []
   },
   "source": [
    "This step aggregates traffic metrics by area and road, summarises incidents and environmental impact, and generates tailored advisories covering congestion, speed, travel time, and weather."
   ]
  },
  {
   "cell_type": "code",
   "execution_count": null,
   "id": "c5a52d72",
   "metadata": {
    "papermill": {
     "duration": 0.070231,
     "end_time": "2024-08-22T08:52:05.879041",
     "exception": false,
     "start_time": "2024-08-22T08:52:05.808810",
     "status": "completed"
    },
    "tags": []
   },
   "outputs": [],
   "source": [
    "aggregated_df = df.groupby(['Area Name', 'Road/Intersection Name']).agg({\n",
    "    'Traffic Volume': 'mean',\n",
    "    'Average Speed': 'mean',\n",
    "    'Travel Time Index': 'mean',\n",
    "    'Congestion Level': 'mean',\n",
    "    'Road Capacity Utilization': 'mean',\n",
    "    'Incident Reports': 'sum',\n",
    "    'Environmental Impact': 'mean',\n",
    "    'Public Transport Usage': 'mean',\n",
    "    'Traffic Signal Compliance': 'mean',\n",
    "    'Parking Usage': 'mean',\n",
    "    'Pedestrian and Cyclist Count': 'mean',\n",
    "    'Weather Conditions': lambda x: x.mode()[0],\n",
    "    'Roadwork and Construction Activity': lambda x: x.mode()[0]\n",
    "}).reset_index()\n",
    "\n",
    "\n",
    "def generate_overall_advisory(row):\n",
    "    advisories = []\n",
    "\n",
    "    # Congestion Level Advisory\n",
    "    if row['Congestion Level'] > 75:\n",
    "        advisories.append(\"High Congestion: Recommend avoiding this area during peak hours.\")\n",
    "    elif row['Congestion Level'] > 50 and row['Congestion Level']<75:\n",
    "        advisories.append(\"Moderate Congestion: Expect delays, consider alternate routes.\")\n",
    "    else:\n",
    "        advisories.append(\"Low Congestion: Traffic flow is smooth.\")\n",
    "\n",
    "    # Incident Reports Advisory\n",
    "    if row['Incident Reports'] > 10:  # Adjust threshold based on the entire data\n",
    "        advisories.append(\"High Incident Rate: Increased likelihood of delays due to incidents.\")\n",
    "    elif row['Incident Reports'] > 5:\n",
    "        advisories.append(\"Moderate Incident Rate: Stay alert for possible minor delays.\")\n",
    "    else:\n",
    "        advisories.append(\"Low Incident Rate: No significant incidents reported.\")\n",
    "\n",
    "    # Environmental Impact Advisory\n",
    "    if row['Environmental Impact'] > 150:\n",
    "        advisories.append(\"High Environmental Impact: Consider reducing travel in this area to lower emissions.\")\n",
    "    elif row['Environmental Impact'] > 100:\n",
    "        advisories.append(\"Moderate Environmental Impact: Monitor air quality if sensitive.\")\n",
    "    else:\n",
    "        advisories.append(\"Low Environmental Impact: Air quality is within acceptable limits.\")\n",
    "\n",
    "    # Average Speed Advisory\n",
    "    if row['Average Speed'] < 20:\n",
    "        advisories.append(\"Low Speed: Traffic is slow, possibly due to congestion or road conditions.\")\n",
    "    elif row['Average Speed'] < 40:\n",
    "        advisories.append(\"Moderate Speed: Traffic is moving but not at optimal speed.\")\n",
    "    else:\n",
    "        advisories.append(\"High Speed: Traffic is moving smoothly.\")\n",
    "\n",
    "    # Travel Time Index Advisory\n",
    "    if row['Travel Time Index'] > 1.3:\n",
    "        advisories.append(\"High Travel Time Index: Expect longer travel times than usual.\")\n",
    "    else:\n",
    "        advisories.append(\"Normal Travel Time Index: Travel times are as expected.\")\n",
    "\n",
    "    # Weather Conditions Advisory\n",
    "    if row['Weather Conditions'] == 'Rain':\n",
    "        advisories.append(\"Wet Conditions: Exercise caution due to wet roads.\")\n",
    "    elif row['Weather Conditions'] == 'Fog':\n",
    "        advisories.append(\"Low Visibility: Drive carefully due to fog.\")\n",
    "    elif row['Weather Conditions'] == 'Clear':\n",
    "        advisories.append(\"Clear Weather: No adverse weather conditions reported.\")\n",
    "\n",
    "    # Combine all advisories into a single string\n",
    "    return \" | \".join(advisories)\n",
    "\n",
    "aggregated_df['Overall Advisory'] = aggregated_df.apply(generate_overall_advisory, axis=1)\n",
    "\n",
    "for index, row in aggregated_df.iterrows():\n",
    "    print(f\"Area: {row['Area Name']}, Street: {row['Road/Intersection Name']}\")\n",
    "    print('\\n')\n",
    "    print(f\"Overall Advisory: {row['Overall Advisory']}\")\n",
    "    print(\"-\" * 180)\n"
   ]
  }
 ],
 "metadata": {
  "kaggle": {
   "accelerator": "none",
   "dataSources": [
    {
     "datasetId": 5577758,
     "sourceId": 9223034,
     "sourceType": "datasetVersion"
    }
   ],
   "dockerImageVersionId": 30761,
   "isGpuEnabled": false,
   "isInternetEnabled": true,
   "language": "python",
   "sourceType": "notebook"
  },
  "kernelspec": {
   "display_name": "Python 3 (ipykernel)",
   "language": "python",
   "name": "python3"
  },
  "language_info": {
   "codemirror_mode": {
    "name": "ipython",
    "version": 3
   },
   "file_extension": ".py",
   "mimetype": "text/x-python",
   "name": "python",
   "nbconvert_exporter": "python",
   "pygments_lexer": "ipython3",
   "version": "3.12.3"
  },
  "papermill": {
   "default_parameters": {},
   "duration": 27.308116,
   "end_time": "2024-08-22T08:52:06.632603",
   "environment_variables": {},
   "exception": null,
   "input_path": "__notebook__.ipynb",
   "output_path": "__notebook__.ipynb",
   "parameters": {},
   "start_time": "2024-08-22T08:51:39.324487",
   "version": "2.6.0"
  }
 },
 "nbformat": 4,
 "nbformat_minor": 5
}
